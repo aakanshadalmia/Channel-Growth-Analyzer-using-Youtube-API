{
  "cells": [
    {
      "cell_type": "markdown",
      "metadata": {
        "id": "view-in-github",
        "colab_type": "text"
      },
      "source": [
        "<a href=\"https://colab.research.google.com/github/aakanshadalmia/Data-Science/blob/main/Credit_Card_Fraud_Detection.ipynb\" target=\"_parent\"><img src=\"https://colab.research.google.com/assets/colab-badge.svg\" alt=\"Open In Colab\"/></a>"
      ]
    },
    {
      "cell_type": "markdown",
      "id": "fb8ec695",
      "metadata": {
        "id": "fb8ec695"
      },
      "source": [
        "# Credit Card Fraud Detection\n",
        "-------------------------\n",
        "\n",
        "**Problem Statement:** The challenge is for credit card companies to recognize fraudulent credit card transactions so that customers are not charged for items that they did not purchase.\n",
        " \n",
        "**Goal:** This project is aimed at finding a classification model with the best performance for an imbalanced dataset.\n",
        "\n",
        "**Evaluation Metrics Used:** AUC-ROC Curve\n",
        "\n",
        "**To be Explored**:\n",
        "- Hyperparamter tuning\n",
        "\n",
        "- PCA\n",
        "\n",
        "- Decision tree Visualization\n"
      ]
    },
    {
      "cell_type": "markdown",
      "id": "cf57e3ae",
      "metadata": {
        "id": "cf57e3ae"
      },
      "source": [
        "## About the Dataset\n",
        "---------\n",
        "\n",
        "The dataset contains transactions made by credit cards in September 2013 by European cardholders.\n",
        "\n",
        "This dataset presents transactions that occurred in two days, where we have 492 frauds out of 284,807 transactions. The dataset is **highly unbalanced, the positive class (frauds) account for 0.172% of all transactions.**\n",
        "\n",
        "It contains only numerical input variables which are the result of a PCA transformation. Due to confidentiality issues, the original features and more background information about the data has been omitted.\n",
        "\n",
        "Features V1, V2, … V28 are the principal components obtained with PCA, the only features which have not been transformed with PCA are 'Time' and 'Amount'. Feature 'Time' contains the seconds elapsed between each transaction and the first transaction in the dataset. The feature 'Amount' is the transaction Amount, this feature can be used for example-dependant cost-sensitive learning. \n",
        "\n",
        "**Feature 'Class' is the response variable and it takes value 1 in case of fraud and 0 otherwise.**\n",
        "\n",
        "_Given the class imbalance ratio, Area Under the Precision-Recall Curve (AUPRC) has been used for evaluation instead of using a Confusion matrix to determine accuracy for the unbalanced classification._"
      ]
    },
    {
      "cell_type": "code",
      "execution_count": 86,
      "id": "f08f002c",
      "metadata": {
        "id": "f08f002c"
      },
      "outputs": [],
      "source": [
        "#Import all required libraries\n",
        "\n",
        "import pandas as pd\n",
        "import numpy as np\n",
        "from sklearn.model_selection import train_test_split\n",
        "from sklearn import metrics\n",
        "from sklearn.neighbors import KNeighborsClassifier\n",
        "from sklearn.linear_model import LogisticRegression\n",
        "from sklearn.tree import DecisionTreeClassifier, plot_tree\n",
        "from sklearn.svm import SVC\n",
        "from sklearn.ensemble import RandomForestClassifier\n",
        "from xgboost import XGBClassifier\n",
        "from sklearn.model_selection import GridSearchCV\n",
        "from sklearn.decomposition import PCA"
      ]
    },
    {
      "cell_type": "code",
      "execution_count": 6,
      "id": "80e7cabf",
      "metadata": {
        "id": "80e7cabf"
      },
      "outputs": [],
      "source": [
        "#Reading data from csv file into a dataframe\n",
        "\n",
        "data = pd.read_csv(\"/content/drive/MyDrive/Colab Notebooks/creditcard.csv\")"
      ]
    },
    {
      "cell_type": "code",
      "execution_count": 7,
      "id": "0a775c90",
      "metadata": {
        "id": "0a775c90",
        "colab": {
          "base_uri": "https://localhost:8080/",
          "height": 299
        },
        "outputId": "f72bf9fe-4672-45b3-f62f-e3a7d9c1f824"
      },
      "outputs": [
        {
          "output_type": "execute_result",
          "data": {
            "text/plain": [
              "   Time        V1        V2        V3        V4        V5        V6        V7  \\\n",
              "0   0.0 -1.359807 -0.072781  2.536347  1.378155 -0.338321  0.462388  0.239599   \n",
              "1   0.0  1.191857  0.266151  0.166480  0.448154  0.060018 -0.082361 -0.078803   \n",
              "2   1.0 -1.358354 -1.340163  1.773209  0.379780 -0.503198  1.800499  0.791461   \n",
              "3   1.0 -0.966272 -0.185226  1.792993 -0.863291 -0.010309  1.247203  0.237609   \n",
              "4   2.0 -1.158233  0.877737  1.548718  0.403034 -0.407193  0.095921  0.592941   \n",
              "\n",
              "         V8        V9  ...       V21       V22       V23       V24       V25  \\\n",
              "0  0.098698  0.363787  ... -0.018307  0.277838 -0.110474  0.066928  0.128539   \n",
              "1  0.085102 -0.255425  ... -0.225775 -0.638672  0.101288 -0.339846  0.167170   \n",
              "2  0.247676 -1.514654  ...  0.247998  0.771679  0.909412 -0.689281 -0.327642   \n",
              "3  0.377436 -1.387024  ... -0.108300  0.005274 -0.190321 -1.175575  0.647376   \n",
              "4 -0.270533  0.817739  ... -0.009431  0.798278 -0.137458  0.141267 -0.206010   \n",
              "\n",
              "        V26       V27       V28  Amount  Class  \n",
              "0 -0.189115  0.133558 -0.021053  149.62      0  \n",
              "1  0.125895 -0.008983  0.014724    2.69      0  \n",
              "2 -0.139097 -0.055353 -0.059752  378.66      0  \n",
              "3 -0.221929  0.062723  0.061458  123.50      0  \n",
              "4  0.502292  0.219422  0.215153   69.99      0  \n",
              "\n",
              "[5 rows x 31 columns]"
            ],
            "text/html": [
              "\n",
              "  <div id=\"df-02f1d173-3e91-429d-be76-60835f3dbe2f\">\n",
              "    <div class=\"colab-df-container\">\n",
              "      <div>\n",
              "<style scoped>\n",
              "    .dataframe tbody tr th:only-of-type {\n",
              "        vertical-align: middle;\n",
              "    }\n",
              "\n",
              "    .dataframe tbody tr th {\n",
              "        vertical-align: top;\n",
              "    }\n",
              "\n",
              "    .dataframe thead th {\n",
              "        text-align: right;\n",
              "    }\n",
              "</style>\n",
              "<table border=\"1\" class=\"dataframe\">\n",
              "  <thead>\n",
              "    <tr style=\"text-align: right;\">\n",
              "      <th></th>\n",
              "      <th>Time</th>\n",
              "      <th>V1</th>\n",
              "      <th>V2</th>\n",
              "      <th>V3</th>\n",
              "      <th>V4</th>\n",
              "      <th>V5</th>\n",
              "      <th>V6</th>\n",
              "      <th>V7</th>\n",
              "      <th>V8</th>\n",
              "      <th>V9</th>\n",
              "      <th>...</th>\n",
              "      <th>V21</th>\n",
              "      <th>V22</th>\n",
              "      <th>V23</th>\n",
              "      <th>V24</th>\n",
              "      <th>V25</th>\n",
              "      <th>V26</th>\n",
              "      <th>V27</th>\n",
              "      <th>V28</th>\n",
              "      <th>Amount</th>\n",
              "      <th>Class</th>\n",
              "    </tr>\n",
              "  </thead>\n",
              "  <tbody>\n",
              "    <tr>\n",
              "      <th>0</th>\n",
              "      <td>0.0</td>\n",
              "      <td>-1.359807</td>\n",
              "      <td>-0.072781</td>\n",
              "      <td>2.536347</td>\n",
              "      <td>1.378155</td>\n",
              "      <td>-0.338321</td>\n",
              "      <td>0.462388</td>\n",
              "      <td>0.239599</td>\n",
              "      <td>0.098698</td>\n",
              "      <td>0.363787</td>\n",
              "      <td>...</td>\n",
              "      <td>-0.018307</td>\n",
              "      <td>0.277838</td>\n",
              "      <td>-0.110474</td>\n",
              "      <td>0.066928</td>\n",
              "      <td>0.128539</td>\n",
              "      <td>-0.189115</td>\n",
              "      <td>0.133558</td>\n",
              "      <td>-0.021053</td>\n",
              "      <td>149.62</td>\n",
              "      <td>0</td>\n",
              "    </tr>\n",
              "    <tr>\n",
              "      <th>1</th>\n",
              "      <td>0.0</td>\n",
              "      <td>1.191857</td>\n",
              "      <td>0.266151</td>\n",
              "      <td>0.166480</td>\n",
              "      <td>0.448154</td>\n",
              "      <td>0.060018</td>\n",
              "      <td>-0.082361</td>\n",
              "      <td>-0.078803</td>\n",
              "      <td>0.085102</td>\n",
              "      <td>-0.255425</td>\n",
              "      <td>...</td>\n",
              "      <td>-0.225775</td>\n",
              "      <td>-0.638672</td>\n",
              "      <td>0.101288</td>\n",
              "      <td>-0.339846</td>\n",
              "      <td>0.167170</td>\n",
              "      <td>0.125895</td>\n",
              "      <td>-0.008983</td>\n",
              "      <td>0.014724</td>\n",
              "      <td>2.69</td>\n",
              "      <td>0</td>\n",
              "    </tr>\n",
              "    <tr>\n",
              "      <th>2</th>\n",
              "      <td>1.0</td>\n",
              "      <td>-1.358354</td>\n",
              "      <td>-1.340163</td>\n",
              "      <td>1.773209</td>\n",
              "      <td>0.379780</td>\n",
              "      <td>-0.503198</td>\n",
              "      <td>1.800499</td>\n",
              "      <td>0.791461</td>\n",
              "      <td>0.247676</td>\n",
              "      <td>-1.514654</td>\n",
              "      <td>...</td>\n",
              "      <td>0.247998</td>\n",
              "      <td>0.771679</td>\n",
              "      <td>0.909412</td>\n",
              "      <td>-0.689281</td>\n",
              "      <td>-0.327642</td>\n",
              "      <td>-0.139097</td>\n",
              "      <td>-0.055353</td>\n",
              "      <td>-0.059752</td>\n",
              "      <td>378.66</td>\n",
              "      <td>0</td>\n",
              "    </tr>\n",
              "    <tr>\n",
              "      <th>3</th>\n",
              "      <td>1.0</td>\n",
              "      <td>-0.966272</td>\n",
              "      <td>-0.185226</td>\n",
              "      <td>1.792993</td>\n",
              "      <td>-0.863291</td>\n",
              "      <td>-0.010309</td>\n",
              "      <td>1.247203</td>\n",
              "      <td>0.237609</td>\n",
              "      <td>0.377436</td>\n",
              "      <td>-1.387024</td>\n",
              "      <td>...</td>\n",
              "      <td>-0.108300</td>\n",
              "      <td>0.005274</td>\n",
              "      <td>-0.190321</td>\n",
              "      <td>-1.175575</td>\n",
              "      <td>0.647376</td>\n",
              "      <td>-0.221929</td>\n",
              "      <td>0.062723</td>\n",
              "      <td>0.061458</td>\n",
              "      <td>123.50</td>\n",
              "      <td>0</td>\n",
              "    </tr>\n",
              "    <tr>\n",
              "      <th>4</th>\n",
              "      <td>2.0</td>\n",
              "      <td>-1.158233</td>\n",
              "      <td>0.877737</td>\n",
              "      <td>1.548718</td>\n",
              "      <td>0.403034</td>\n",
              "      <td>-0.407193</td>\n",
              "      <td>0.095921</td>\n",
              "      <td>0.592941</td>\n",
              "      <td>-0.270533</td>\n",
              "      <td>0.817739</td>\n",
              "      <td>...</td>\n",
              "      <td>-0.009431</td>\n",
              "      <td>0.798278</td>\n",
              "      <td>-0.137458</td>\n",
              "      <td>0.141267</td>\n",
              "      <td>-0.206010</td>\n",
              "      <td>0.502292</td>\n",
              "      <td>0.219422</td>\n",
              "      <td>0.215153</td>\n",
              "      <td>69.99</td>\n",
              "      <td>0</td>\n",
              "    </tr>\n",
              "  </tbody>\n",
              "</table>\n",
              "<p>5 rows × 31 columns</p>\n",
              "</div>\n",
              "      <button class=\"colab-df-convert\" onclick=\"convertToInteractive('df-02f1d173-3e91-429d-be76-60835f3dbe2f')\"\n",
              "              title=\"Convert this dataframe to an interactive table.\"\n",
              "              style=\"display:none;\">\n",
              "        \n",
              "  <svg xmlns=\"http://www.w3.org/2000/svg\" height=\"24px\"viewBox=\"0 0 24 24\"\n",
              "       width=\"24px\">\n",
              "    <path d=\"M0 0h24v24H0V0z\" fill=\"none\"/>\n",
              "    <path d=\"M18.56 5.44l.94 2.06.94-2.06 2.06-.94-2.06-.94-.94-2.06-.94 2.06-2.06.94zm-11 1L8.5 8.5l.94-2.06 2.06-.94-2.06-.94L8.5 2.5l-.94 2.06-2.06.94zm10 10l.94 2.06.94-2.06 2.06-.94-2.06-.94-.94-2.06-.94 2.06-2.06.94z\"/><path d=\"M17.41 7.96l-1.37-1.37c-.4-.4-.92-.59-1.43-.59-.52 0-1.04.2-1.43.59L10.3 9.45l-7.72 7.72c-.78.78-.78 2.05 0 2.83L4 21.41c.39.39.9.59 1.41.59.51 0 1.02-.2 1.41-.59l7.78-7.78 2.81-2.81c.8-.78.8-2.07 0-2.86zM5.41 20L4 18.59l7.72-7.72 1.47 1.35L5.41 20z\"/>\n",
              "  </svg>\n",
              "      </button>\n",
              "      \n",
              "  <style>\n",
              "    .colab-df-container {\n",
              "      display:flex;\n",
              "      flex-wrap:wrap;\n",
              "      gap: 12px;\n",
              "    }\n",
              "\n",
              "    .colab-df-convert {\n",
              "      background-color: #E8F0FE;\n",
              "      border: none;\n",
              "      border-radius: 50%;\n",
              "      cursor: pointer;\n",
              "      display: none;\n",
              "      fill: #1967D2;\n",
              "      height: 32px;\n",
              "      padding: 0 0 0 0;\n",
              "      width: 32px;\n",
              "    }\n",
              "\n",
              "    .colab-df-convert:hover {\n",
              "      background-color: #E2EBFA;\n",
              "      box-shadow: 0px 1px 2px rgba(60, 64, 67, 0.3), 0px 1px 3px 1px rgba(60, 64, 67, 0.15);\n",
              "      fill: #174EA6;\n",
              "    }\n",
              "\n",
              "    [theme=dark] .colab-df-convert {\n",
              "      background-color: #3B4455;\n",
              "      fill: #D2E3FC;\n",
              "    }\n",
              "\n",
              "    [theme=dark] .colab-df-convert:hover {\n",
              "      background-color: #434B5C;\n",
              "      box-shadow: 0px 1px 3px 1px rgba(0, 0, 0, 0.15);\n",
              "      filter: drop-shadow(0px 1px 2px rgba(0, 0, 0, 0.3));\n",
              "      fill: #FFFFFF;\n",
              "    }\n",
              "  </style>\n",
              "\n",
              "      <script>\n",
              "        const buttonEl =\n",
              "          document.querySelector('#df-02f1d173-3e91-429d-be76-60835f3dbe2f button.colab-df-convert');\n",
              "        buttonEl.style.display =\n",
              "          google.colab.kernel.accessAllowed ? 'block' : 'none';\n",
              "\n",
              "        async function convertToInteractive(key) {\n",
              "          const element = document.querySelector('#df-02f1d173-3e91-429d-be76-60835f3dbe2f');\n",
              "          const dataTable =\n",
              "            await google.colab.kernel.invokeFunction('convertToInteractive',\n",
              "                                                     [key], {});\n",
              "          if (!dataTable) return;\n",
              "\n",
              "          const docLinkHtml = 'Like what you see? Visit the ' +\n",
              "            '<a target=\"_blank\" href=https://colab.research.google.com/notebooks/data_table.ipynb>data table notebook</a>'\n",
              "            + ' to learn more about interactive tables.';\n",
              "          element.innerHTML = '';\n",
              "          dataTable['output_type'] = 'display_data';\n",
              "          await google.colab.output.renderOutput(dataTable, element);\n",
              "          const docLink = document.createElement('div');\n",
              "          docLink.innerHTML = docLinkHtml;\n",
              "          element.appendChild(docLink);\n",
              "        }\n",
              "      </script>\n",
              "    </div>\n",
              "  </div>\n",
              "  "
            ]
          },
          "metadata": {},
          "execution_count": 7
        }
      ],
      "source": [
        "data.head()"
      ]
    },
    {
      "cell_type": "code",
      "source": [
        "data.isna().sum()\n",
        "data = data.fillna(0)"
      ],
      "metadata": {
        "id": "i4rPEJzZQcTP"
      },
      "id": "i4rPEJzZQcTP",
      "execution_count": 8,
      "outputs": []
    },
    {
      "cell_type": "code",
      "execution_count": 9,
      "id": "522b3c2b",
      "metadata": {
        "id": "522b3c2b",
        "colab": {
          "base_uri": "https://localhost:8080/"
        },
        "outputId": "e933b55f-9983-485d-9e36-3249d5c1f1ff"
      },
      "outputs": [
        {
          "output_type": "stream",
          "name": "stdout",
          "text": [
            "Total number of transactions: 284807\n",
            "Legitimate Transactions: 284315\n",
            "Fraud Transactions: 492\n",
            "% of Fraud Transactions: 0.1727\n"
          ]
        }
      ],
      "source": [
        "#Estimating the imbalance in the dataset\n",
        "\n",
        "print(\"Total number of transactions:\", len(data))\n",
        "normal = len(data[data.Class == 0])\n",
        "fraud = len(data[data.Class == 1])\n",
        "print(\"Legitimate Transactions:\", normal)\n",
        "print(\"Fraud Transactions:\", fraud)\n",
        "print(\"% of Fraud Transactions:\", round(fraud / len(data) * 100,4))"
      ]
    },
    {
      "cell_type": "code",
      "execution_count": 10,
      "id": "74d39776",
      "metadata": {
        "id": "74d39776"
      },
      "outputs": [],
      "source": [
        "#Defining the training and testing datasets\n",
        "\n",
        "X = data.drop('Class',axis = 1)\n",
        "Y = data.Class.values\n",
        "\n",
        "X_train, X_test, Y_train, Y_test = train_test_split(X, Y, test_size = 0.3, random_state = 1)"
      ]
    },
    {
      "cell_type": "markdown",
      "source": [
        "# Principal Component Analysis"
      ],
      "metadata": {
        "id": "vPvZogk3Anqu"
      },
      "id": "vPvZogk3Anqu"
    },
    {
      "cell_type": "code",
      "source": [
        "pca = PCA(n_components = 10).fit(X_train)"
      ],
      "metadata": {
        "id": "E4JYhserABTp"
      },
      "id": "E4JYhserABTp",
      "execution_count": 29,
      "outputs": []
    },
    {
      "cell_type": "code",
      "source": [
        "X_train_pca = pca.transform(X_train)\n",
        "X_train_pca.shape"
      ],
      "metadata": {
        "colab": {
          "base_uri": "https://localhost:8080/"
        },
        "id": "kl99I240AA4p",
        "outputId": "cd93c259-9e45-48b3-cee5-f2910e5e449c"
      },
      "id": "kl99I240AA4p",
      "execution_count": 30,
      "outputs": [
        {
          "output_type": "execute_result",
          "data": {
            "text/plain": [
              "(199364, 10)"
            ]
          },
          "metadata": {},
          "execution_count": 30
        }
      ]
    },
    {
      "cell_type": "code",
      "source": [
        "X_test_pca = pca.transform(X_test)"
      ],
      "metadata": {
        "id": "41Soq3IcAAr7"
      },
      "id": "41Soq3IcAAr7",
      "execution_count": 84,
      "outputs": []
    },
    {
      "cell_type": "markdown",
      "id": "4a1ab62e",
      "metadata": {
        "id": "4a1ab62e"
      },
      "source": [
        "## K-Nearest Neighbours"
      ]
    },
    {
      "cell_type": "code",
      "execution_count": 11,
      "id": "2e8f39d7",
      "metadata": {
        "id": "2e8f39d7"
      },
      "outputs": [],
      "source": [
        "#Model Building\n",
        "\n",
        "kNN = KNeighborsClassifier(n_neighbors = 5, n_jobs = -1, leaf_size = 600)\n",
        "kNN.fit(X_train, Y_train)\n",
        "\n",
        "#Applying model to test dataset\n",
        "kNN_Y_pred = kNN.predict(X_test)"
      ]
    },
    {
      "cell_type": "code",
      "execution_count": 70,
      "id": "8ab71d06",
      "metadata": {
        "id": "8ab71d06",
        "outputId": "006a79d8-74de-4d05-d122-8c2f8f11d46d",
        "colab": {
          "base_uri": "https://localhost:8080/"
        }
      },
      "outputs": [
        {
          "output_type": "stream",
          "name": "stdout",
          "text": [
            "F1 score for kNN model is: 0.05755395683453238\n"
          ]
        }
      ],
      "source": [
        "#Model Evaluation\n",
        "\n",
        "kNN_f1 = metrics.f1_score(Y_test,kNN_Y_pred)\n",
        "print(\"F1 score for kNN model is:\",kNN_f1)"
      ]
    },
    {
      "cell_type": "code",
      "execution_count": 74,
      "id": "813c5ea8",
      "metadata": {
        "id": "813c5ea8",
        "colab": {
          "base_uri": "https://localhost:8080/"
        },
        "outputId": "d6e1e518-426d-4925-c9dc-98f857a26ed6"
      },
      "outputs": [
        {
          "output_type": "stream",
          "name": "stdout",
          "text": [
            "Fitting 3 folds for each of 8 candidates, totalling 24 fits\n"
          ]
        },
        {
          "output_type": "execute_result",
          "data": {
            "text/plain": [
              "GridSearchCV(cv=3, estimator=KNeighborsClassifier(), n_jobs=-1,\n",
              "             param_grid={'metric': ['euclidean', 'manhattan'],\n",
              "                         'n_neighbors': [3, 6, 9, 12]},\n",
              "             scoring='f1', verbose=10)"
            ]
          },
          "metadata": {},
          "execution_count": 74
        }
      ],
      "source": [
        "#Hyperparameter Tuning\n",
        "grid_params = {'n_neighbors' : list(range(3,15,3)),\n",
        "               'metric' : ['euclidean','manhattan']}\n",
        "\n",
        "gridsearch_kNN = GridSearchCV(KNeighborsClassifier(), grid_params, cv = 3, scoring = 'f1', n_jobs = -1, verbose = 10)\n",
        "gridsearch_kNN.fit(X_train_pca, Y_train)\n",
        "gridsearch_kNN"
      ]
    },
    {
      "cell_type": "code",
      "source": [
        "print(\"Best possible Cross Validation score:\",gridsearch_kNN.best_score_)"
      ],
      "metadata": {
        "colab": {
          "base_uri": "https://localhost:8080/"
        },
        "id": "jEZlzIxKCmTX",
        "outputId": "02084f5d-b652-4411-999d-eef99f3c98dd"
      },
      "id": "jEZlzIxKCmTX",
      "execution_count": 75,
      "outputs": [
        {
          "output_type": "stream",
          "name": "stdout",
          "text": [
            "Best possible Cross Validation score: 0.25682148264886745\n"
          ]
        }
      ]
    },
    {
      "cell_type": "code",
      "source": [
        "gridsearch_kNN.best_params_"
      ],
      "metadata": {
        "colab": {
          "base_uri": "https://localhost:8080/"
        },
        "id": "K2vdnbgqDABc",
        "outputId": "e0e0dced-3d25-4c9c-9838-2ffb8f7852d0"
      },
      "id": "K2vdnbgqDABc",
      "execution_count": 76,
      "outputs": [
        {
          "output_type": "execute_result",
          "data": {
            "text/plain": [
              "{'metric': 'manhattan', 'n_neighbors': 3}"
            ]
          },
          "metadata": {},
          "execution_count": 76
        }
      ]
    },
    {
      "cell_type": "code",
      "source": [
        "kNN_tuned = KNeighborsClassifier(gridsearch_kNN.best_params_['n_neighbors'], metric = gridsearch_kNN.best_params_['metric'])\n",
        "kNN_tuned.fit(X_train_pca,Y_train)\n",
        "kNN_tuned_Y_pred = kNN_tuned.predict(X_test_pca)"
      ],
      "metadata": {
        "id": "oWtSK_9aC44W"
      },
      "id": "oWtSK_9aC44W",
      "execution_count": 77,
      "outputs": []
    },
    {
      "cell_type": "code",
      "source": [
        "#Model Evaluation\n",
        "\n",
        "kNN_best_f1 = metrics.f1_score(Y_test,kNN_tuned_Y_pred)\n",
        "print(\"F1 score for kNN model after hyperparameter tuning is:\",kNN_best_f1)"
      ],
      "metadata": {
        "colab": {
          "base_uri": "https://localhost:8080/"
        },
        "id": "xdOpLEpUE9tf",
        "outputId": "07d46e57-d4b2-4aaf-d13d-157d034c0a4a"
      },
      "id": "xdOpLEpUE9tf",
      "execution_count": 78,
      "outputs": [
        {
          "output_type": "stream",
          "name": "stdout",
          "text": [
            "F1 score for kNN model after hyperparameter tuning is: 0.18791946308724833\n"
          ]
        }
      ]
    },
    {
      "cell_type": "markdown",
      "id": "4711db28",
      "metadata": {
        "id": "4711db28"
      },
      "source": [
        "## Logistic Regression"
      ]
    },
    {
      "cell_type": "code",
      "execution_count": 71,
      "id": "9b789501",
      "metadata": {
        "id": "9b789501",
        "outputId": "99b96b64-513f-4d8f-dc3c-829c647b9d9a",
        "colab": {
          "base_uri": "https://localhost:8080/"
        }
      },
      "outputs": [
        {
          "output_type": "stream",
          "name": "stderr",
          "text": [
            "[Parallel(n_jobs=-1)]: Using backend LokyBackend with 2 concurrent workers.\n",
            "[Parallel(n_jobs=-1)]: Done   1 out of   1 | elapsed:   33.7s finished\n"
          ]
        },
        {
          "output_type": "execute_result",
          "data": {
            "text/plain": [
              "LogisticRegression(n_jobs=-1, verbose=2)"
            ]
          },
          "metadata": {},
          "execution_count": 71
        }
      ],
      "source": [
        "#Model Building\n",
        "\n",
        "log_reg = LogisticRegression(verbose = 2, n_jobs = -1)\n",
        "log_reg.fit(X_train_pca, Y_train)"
      ]
    },
    {
      "cell_type": "code",
      "execution_count": 72,
      "id": "2d73b791",
      "metadata": {
        "id": "2d73b791"
      },
      "outputs": [],
      "source": [
        "#Applying model to test dataset\n",
        "\n",
        "LR_Y_pred = log_reg.predict(X_test_pca)"
      ]
    },
    {
      "cell_type": "code",
      "execution_count": 73,
      "id": "03885c81",
      "metadata": {
        "id": "03885c81",
        "outputId": "382dced4-3f84-4817-c654-1b1b17ab930e",
        "colab": {
          "base_uri": "https://localhost:8080/"
        }
      },
      "outputs": [
        {
          "output_type": "stream",
          "name": "stdout",
          "text": [
            "F1 score for Logistic Regression model is: 0.6535433070866141\n"
          ]
        }
      ],
      "source": [
        "#Model Evaluation\n",
        "\n",
        "logr_f1 = metrics.f1_score(Y_test,LR_Y_pred)\n",
        "print(\"F1 score for Logistic Regression model is:\",logr_f1)"
      ]
    },
    {
      "cell_type": "code",
      "source": [
        "#Hyperparameter Tuning\n",
        "\n",
        "w = [{0:1000,1:100},{0:1000,1:10}, {0:1000,1:1.0}, \n",
        "     {0:500,1:1.0}, {0:400,1:1.0}, {0:300,1:1.0}, {0:200,1:1.0}, \n",
        "     {0:1.0,1:10}, {0:1.0,1:99}, {0:1.0,1:100}, {0:1.0,1:150}, \n",
        "     {0:1.0,1:200}, {0:1.0,1:300},{0:1.0,1:400},{0:1.0,1:500}, \n",
        "     {0:1.0,1:1000}, {0:10,1:1000},{0:100,1:1000} ]\n",
        "crange = np.arange(0.5, 20.0, 0.5)\n",
        "param_grid = {\"class_weight\": w}\n",
        "\n",
        "gridsearch_logr = GridSearchCV(LogisticRegression(max_iter = 500), param_grid, cv = 3, scoring = 'f1', n_jobs = -1)\n",
        "gridsearch_logr.fit(X_train_pca,Y_train)"
      ],
      "metadata": {
        "colab": {
          "base_uri": "https://localhost:8080/"
        },
        "id": "B0Ss-pWoQ6r7",
        "outputId": "4697a689-bede-41ce-881b-3568404a0103"
      },
      "id": "B0Ss-pWoQ6r7",
      "execution_count": 112,
      "outputs": [
        {
          "output_type": "execute_result",
          "data": {
            "text/plain": [
              "GridSearchCV(cv=3, estimator=LogisticRegression(max_iter=500), n_jobs=-1,\n",
              "             param_grid={'class_weight': [{0: 1000, 1: 100}, {0: 1000, 1: 10},\n",
              "                                          {0: 1000, 1: 1.0}, {0: 500, 1: 1.0},\n",
              "                                          {0: 400, 1: 1.0}, {0: 300, 1: 1.0},\n",
              "                                          {0: 200, 1: 1.0}, {0: 1.0, 1: 10},\n",
              "                                          {0: 1.0, 1: 99}, {0: 1.0, 1: 100},\n",
              "                                          {0: 1.0, 1: 150}, {0: 1.0, 1: 200},\n",
              "                                          {0: 1.0, 1: 300}, {0: 1.0, 1: 400},\n",
              "                                          {0: 1.0, 1: 500}, {0: 1.0, 1: 1000},\n",
              "                                          {0: 10, 1: 1000},\n",
              "                                          {0: 100, 1: 1000}]},\n",
              "             scoring='f1')"
            ]
          },
          "metadata": {},
          "execution_count": 112
        }
      ]
    },
    {
      "cell_type": "code",
      "source": [
        "print(\"Cross validation score after tuning: \",gridsearch_logr.best_score_)\n",
        "print(\"Final parameters after tuning\",gridsearch_logr.best_params_)"
      ],
      "metadata": {
        "colab": {
          "base_uri": "https://localhost:8080/"
        },
        "id": "yWcVNZ0vQ7Km",
        "outputId": "557c5a7e-3d9c-4db9-d92f-3fc62d13aa04"
      },
      "id": "yWcVNZ0vQ7Km",
      "execution_count": 115,
      "outputs": [
        {
          "output_type": "stream",
          "name": "stdout",
          "text": [
            "Cross validation score after tuning:  0.7121430607603774\n",
            "Final parameters after tuning {'class_weight': {0: 100, 1: 1000}}\n"
          ]
        }
      ]
    },
    {
      "cell_type": "code",
      "source": [
        "logr_tuned = LogisticRegression(class_weight = gridsearch_logr.best_params_['class_weight'], max_iter = 500)\n",
        "logr_tuned.fit(X_train_pca,Y_train)\n",
        "\n",
        "logr_tuned_pred = logr_tuned.predict(X_test_pca)"
      ],
      "metadata": {
        "id": "OgcKKqAZV2Uu"
      },
      "id": "OgcKKqAZV2Uu",
      "execution_count": 116,
      "outputs": []
    },
    {
      "cell_type": "code",
      "source": [
        "#Model Evaluation\n",
        "\n",
        "logr_best_f1 = metrics.f1_score(Y_test,logr_tuned_pred)\n",
        "print(\"F1 score for Logistic Regression after Hyperparameter tuning is:\",logr_best_f1)"
      ],
      "metadata": {
        "colab": {
          "base_uri": "https://localhost:8080/"
        },
        "id": "33NCTjvAWSYJ",
        "outputId": "71504427-7d4d-4182-ebb1-f9f57c427c43"
      },
      "id": "33NCTjvAWSYJ",
      "execution_count": 117,
      "outputs": [
        {
          "output_type": "stream",
          "name": "stdout",
          "text": [
            "F1 score for Logistic Regression after Hyperparameter tuning is: 0.6784452296819788\n"
          ]
        }
      ]
    },
    {
      "cell_type": "markdown",
      "id": "81c3d3c1",
      "metadata": {
        "id": "81c3d3c1"
      },
      "source": [
        "## Decision Tree"
      ]
    },
    {
      "cell_type": "code",
      "execution_count": 121,
      "id": "9d3e48cc",
      "metadata": {
        "id": "9d3e48cc",
        "outputId": "5b5f8d64-20b5-4649-c2d2-837a281b404b",
        "colab": {
          "base_uri": "https://localhost:8080/"
        }
      },
      "outputs": [
        {
          "output_type": "execute_result",
          "data": {
            "text/plain": [
              "DecisionTreeClassifier(criterion='entropy')"
            ]
          },
          "metadata": {},
          "execution_count": 121
        }
      ],
      "source": [
        "#Model Building\n",
        "\n",
        "DT = DecisionTreeClassifier(criterion = 'entropy')\n",
        "DT.fit(X_train_pca,Y_train)"
      ]
    },
    {
      "cell_type": "code",
      "execution_count": 122,
      "id": "b09c7969",
      "metadata": {
        "id": "b09c7969"
      },
      "outputs": [],
      "source": [
        "#Applying model to test dataset\n",
        "\n",
        "DT_Y_pred = DT.predict(X_test_pca)"
      ]
    },
    {
      "cell_type": "code",
      "execution_count": 124,
      "id": "193f3860",
      "metadata": {
        "id": "193f3860",
        "outputId": "2864f952-b7f1-409b-8005-217191feea52",
        "colab": {
          "base_uri": "https://localhost:8080/"
        }
      },
      "outputs": [
        {
          "output_type": "stream",
          "name": "stdout",
          "text": [
            "F1 score for Decision Tree model is: 0.7084870848708488\n"
          ]
        }
      ],
      "source": [
        "#Model Evaluation\n",
        "\n",
        "dt_f1 = metrics.f1_score(Y_test, DT_Y_pred)\n",
        "print(\"F1 score for Decision Tree model is:\",dt_f1)"
      ]
    },
    {
      "cell_type": "code",
      "execution_count": 136,
      "id": "1a26c850",
      "metadata": {
        "id": "1a26c850",
        "colab": {
          "base_uri": "https://localhost:8080/"
        },
        "outputId": "d7b5efb8-1815-4425-8b12-4d363de0be92"
      },
      "outputs": [
        {
          "output_type": "execute_result",
          "data": {
            "text/plain": [
              "GridSearchCV(cv=3, estimator=DecisionTreeClassifier(), n_jobs=-1,\n",
              "             param_grid={'criterion': ['gini', 'entropy'],\n",
              "                         'max_depth': [2, 3, 4, 5, 6, 7, 8, 9],\n",
              "                         'min_samples_leaf': [5, 10, 15, 20]},\n",
              "             scoring='f1')"
            ]
          },
          "metadata": {},
          "execution_count": 136
        }
      ],
      "source": [
        "#Hyperparameter Tuning\n",
        "\n",
        "criteria = ['gini', 'entropy']\n",
        "max_depth = list(range(2,10))\n",
        "min_samples_leaf = [5,10,15,20]\n",
        "\n",
        "param_grid = {\"criterion\" : criteria, \"max_depth\" : max_depth, \"min_samples_leaf\" : min_samples_leaf}\n",
        "\n",
        "gridsearch_dt = GridSearchCV(DecisionTreeClassifier(), param_grid, cv = 3, scoring = 'f1', n_jobs = -1)\n",
        "gridsearch_dt.fit(X_train_pca,Y_train)"
      ]
    },
    {
      "cell_type": "code",
      "source": [
        "print(\"Cross validation score after tuning: \",gridsearch_dt.best_score_)\n",
        "print(\"Final parameters after tuning\",gridsearch_dt.best_params_)"
      ],
      "metadata": {
        "colab": {
          "base_uri": "https://localhost:8080/"
        },
        "id": "Kw29H4eleTzg",
        "outputId": "b0b0b2bb-db03-4767-9775-28a61feee15b"
      },
      "id": "Kw29H4eleTzg",
      "execution_count": 137,
      "outputs": [
        {
          "output_type": "stream",
          "name": "stdout",
          "text": [
            "Cross validation score after tuning:  0.7935712532125088\n",
            "Final parameters after tuning {'criterion': 'gini', 'max_depth': 7, 'min_samples_leaf': 5}\n"
          ]
        }
      ]
    },
    {
      "cell_type": "code",
      "source": [
        "dt_tuned = DecisionTreeClassifier(criterion = gridsearch_dt.best_params_['criterion'],\n",
        "                                  max_depth = gridsearch_dt.best_params_['max_depth'],\n",
        "                                  min_samples_leaf = gridsearch_dt.best_params_['min_samples_leaf'])\n",
        "dt_tuned.fit(X_train_pca,Y_train)\n",
        "\n",
        "dt_tuned_pred = dt_tuned.predict(X_test_pca)"
      ],
      "metadata": {
        "id": "8-sKEbR6eUS1"
      },
      "id": "8-sKEbR6eUS1",
      "execution_count": 138,
      "outputs": []
    },
    {
      "cell_type": "code",
      "source": [
        "#Model Evaluation\n",
        "\n",
        "dt_best_f1 = metrics.f1_score(Y_test, dt_tuned_pred)\n",
        "print(\"F1 score for Decision Tree model is:\",dt_best_f1)"
      ],
      "metadata": {
        "colab": {
          "base_uri": "https://localhost:8080/"
        },
        "id": "3q0IHNsheeM0",
        "outputId": "55fa6392-a6cc-4cbb-ba03-c9b5df02d1cb"
      },
      "id": "3q0IHNsheeM0",
      "execution_count": 139,
      "outputs": [
        {
          "output_type": "stream",
          "name": "stdout",
          "text": [
            "F1 score for Decision Tree model is: 0.7330677290836654\n"
          ]
        }
      ]
    },
    {
      "cell_type": "markdown",
      "id": "ceb7920c",
      "metadata": {
        "id": "ceb7920c"
      },
      "source": [
        "## Support Vector Machine"
      ]
    },
    {
      "cell_type": "code",
      "execution_count": 141,
      "id": "fd0cd6ee",
      "metadata": {
        "id": "fd0cd6ee",
        "outputId": "bb9da95f-3fcf-4a33-edfa-761ed3c73e1b",
        "colab": {
          "base_uri": "https://localhost:8080/"
        }
      },
      "outputs": [
        {
          "output_type": "execute_result",
          "data": {
            "text/plain": [
              "SVC()"
            ]
          },
          "metadata": {},
          "execution_count": 141
        }
      ],
      "source": [
        "#Model Building\n",
        "\n",
        "svm = SVC()\n",
        "svm.fit(X_train_pca, Y_train)"
      ]
    },
    {
      "cell_type": "code",
      "execution_count": 142,
      "id": "32f2ee2a",
      "metadata": {
        "id": "32f2ee2a"
      },
      "outputs": [],
      "source": [
        "#Applying model to test dataset\n",
        "\n",
        "svm_Y_pred = svm.predict(X_test_pca)"
      ]
    },
    {
      "cell_type": "code",
      "execution_count": 143,
      "id": "123feea2",
      "metadata": {
        "id": "123feea2",
        "outputId": "faa3c2b2-b2a7-45de-c71e-b8aeb0876b62",
        "colab": {
          "base_uri": "https://localhost:8080/"
        }
      },
      "outputs": [
        {
          "output_type": "stream",
          "name": "stdout",
          "text": [
            "F1 score for SVM model is: 0.0\n"
          ]
        }
      ],
      "source": [
        "#Model Evaluation\n",
        "\n",
        "svm_f1 = metrics.f1_score(Y_test,svm_Y_pred)\n",
        "print(\"F1 score for SVM model is:\",svm_f1)"
      ]
    },
    {
      "cell_type": "markdown",
      "id": "12ae74ce",
      "metadata": {
        "id": "12ae74ce"
      },
      "source": [
        "## Random Forest"
      ]
    },
    {
      "cell_type": "code",
      "execution_count": 19,
      "id": "992cac9b",
      "metadata": {
        "id": "992cac9b",
        "outputId": "a1f54e2b-a6de-4490-806f-7c996bceb3e2",
        "colab": {
          "base_uri": "https://localhost:8080/"
        }
      },
      "outputs": [
        {
          "output_type": "execute_result",
          "data": {
            "text/plain": [
              "RandomForestClassifier(n_jobs=-1)"
            ]
          },
          "metadata": {},
          "execution_count": 19
        }
      ],
      "source": [
        "#Model Building\n",
        "\n",
        "rf = RandomForestClassifier(n_jobs = -1)\n",
        "rf.fit(X_train, Y_train)"
      ]
    },
    {
      "cell_type": "code",
      "execution_count": 20,
      "id": "871abb7e",
      "metadata": {
        "id": "871abb7e"
      },
      "outputs": [],
      "source": [
        "#Applying model to test dataset\n",
        "\n",
        "rf_Y_pred = rf.predict(X_test)"
      ]
    },
    {
      "cell_type": "code",
      "execution_count": 21,
      "id": "9170363b",
      "metadata": {
        "id": "9170363b",
        "outputId": "e6991b59-5866-419f-c5e6-19eded379cee",
        "colab": {
          "base_uri": "https://localhost:8080/"
        }
      },
      "outputs": [
        {
          "output_type": "stream",
          "name": "stdout",
          "text": [
            "AUC for Random Forest model is: 0.8888419999687407\n"
          ]
        }
      ],
      "source": [
        "#Model Evaluation\n",
        "\n",
        "fpr, tpr, thresholds = metrics.roc_curve(Y_test,rf_Y_pred)\n",
        "rf_auc = metrics.auc(fpr, tpr)\n",
        "print(\"AUC for Random Forest model is:\",rf_auc)"
      ]
    },
    {
      "cell_type": "markdown",
      "id": "0f35170f",
      "metadata": {
        "id": "0f35170f"
      },
      "source": [
        "## XGBoost"
      ]
    },
    {
      "cell_type": "code",
      "execution_count": 22,
      "id": "5d56b9fd",
      "metadata": {
        "id": "5d56b9fd",
        "outputId": "a8950f0a-1444-498a-a9b7-7fa36c87e131",
        "colab": {
          "base_uri": "https://localhost:8080/"
        }
      },
      "outputs": [
        {
          "output_type": "execute_result",
          "data": {
            "text/plain": [
              "XGBClassifier()"
            ]
          },
          "metadata": {},
          "execution_count": 22
        }
      ],
      "source": [
        "#Model Building\n",
        "\n",
        "xgb =XGBClassifier()\n",
        "xgb.fit(X_train, Y_train)"
      ]
    },
    {
      "cell_type": "code",
      "execution_count": 23,
      "id": "aea942d5",
      "metadata": {
        "id": "aea942d5"
      },
      "outputs": [],
      "source": [
        "#Applying model to test dataset\n",
        "\n",
        "xgb_Y_pred = rf.predict(X_test)"
      ]
    },
    {
      "cell_type": "code",
      "execution_count": 24,
      "id": "32375768",
      "metadata": {
        "id": "32375768",
        "outputId": "29c7cd10-ac09-478d-82aa-f037385e3c4a",
        "colab": {
          "base_uri": "https://localhost:8080/"
        }
      },
      "outputs": [
        {
          "output_type": "stream",
          "name": "stdout",
          "text": [
            "AUC for XGBoost model is: 0.8888419999687407\n"
          ]
        }
      ],
      "source": [
        "#Model Evaluation\n",
        "\n",
        "fpr, tpr, thresholds = metrics.roc_curve(Y_test,xgb_Y_pred)\n",
        "xgb_auc = metrics.auc(fpr, tpr)\n",
        "print(\"AUC for XGBoost model is:\",xgb_auc)"
      ]
    },
    {
      "cell_type": "markdown",
      "id": "91b46124",
      "metadata": {
        "id": "91b46124"
      },
      "source": [
        "# Comparison of Model Performance"
      ]
    },
    {
      "cell_type": "code",
      "execution_count": 140,
      "id": "e91b3bb8",
      "metadata": {
        "id": "e91b3bb8",
        "outputId": "2d778075-11e1-43a7-d01f-49102ea1852b",
        "colab": {
          "base_uri": "https://localhost:8080/",
          "height": 143
        }
      },
      "outputs": [
        {
          "output_type": "execute_result",
          "data": {
            "text/plain": [
              "                 Model  F1 score before Tuning  F1 score after Tuning\n",
              "0                  KNN                0.057554               0.187919\n",
              "1  Logistic Regression                0.653543               0.678445\n",
              "2        Decision Tree                0.708487               0.733068"
            ],
            "text/html": [
              "\n",
              "  <div id=\"df-6fa40f1c-00b6-4565-ba3e-77ba021f12d6\">\n",
              "    <div class=\"colab-df-container\">\n",
              "      <div>\n",
              "<style scoped>\n",
              "    .dataframe tbody tr th:only-of-type {\n",
              "        vertical-align: middle;\n",
              "    }\n",
              "\n",
              "    .dataframe tbody tr th {\n",
              "        vertical-align: top;\n",
              "    }\n",
              "\n",
              "    .dataframe thead th {\n",
              "        text-align: right;\n",
              "    }\n",
              "</style>\n",
              "<table border=\"1\" class=\"dataframe\">\n",
              "  <thead>\n",
              "    <tr style=\"text-align: right;\">\n",
              "      <th></th>\n",
              "      <th>Model</th>\n",
              "      <th>F1 score before Tuning</th>\n",
              "      <th>F1 score after Tuning</th>\n",
              "    </tr>\n",
              "  </thead>\n",
              "  <tbody>\n",
              "    <tr>\n",
              "      <th>0</th>\n",
              "      <td>KNN</td>\n",
              "      <td>0.057554</td>\n",
              "      <td>0.187919</td>\n",
              "    </tr>\n",
              "    <tr>\n",
              "      <th>1</th>\n",
              "      <td>Logistic Regression</td>\n",
              "      <td>0.653543</td>\n",
              "      <td>0.678445</td>\n",
              "    </tr>\n",
              "    <tr>\n",
              "      <th>2</th>\n",
              "      <td>Decision Tree</td>\n",
              "      <td>0.708487</td>\n",
              "      <td>0.733068</td>\n",
              "    </tr>\n",
              "  </tbody>\n",
              "</table>\n",
              "</div>\n",
              "      <button class=\"colab-df-convert\" onclick=\"convertToInteractive('df-6fa40f1c-00b6-4565-ba3e-77ba021f12d6')\"\n",
              "              title=\"Convert this dataframe to an interactive table.\"\n",
              "              style=\"display:none;\">\n",
              "        \n",
              "  <svg xmlns=\"http://www.w3.org/2000/svg\" height=\"24px\"viewBox=\"0 0 24 24\"\n",
              "       width=\"24px\">\n",
              "    <path d=\"M0 0h24v24H0V0z\" fill=\"none\"/>\n",
              "    <path d=\"M18.56 5.44l.94 2.06.94-2.06 2.06-.94-2.06-.94-.94-2.06-.94 2.06-2.06.94zm-11 1L8.5 8.5l.94-2.06 2.06-.94-2.06-.94L8.5 2.5l-.94 2.06-2.06.94zm10 10l.94 2.06.94-2.06 2.06-.94-2.06-.94-.94-2.06-.94 2.06-2.06.94z\"/><path d=\"M17.41 7.96l-1.37-1.37c-.4-.4-.92-.59-1.43-.59-.52 0-1.04.2-1.43.59L10.3 9.45l-7.72 7.72c-.78.78-.78 2.05 0 2.83L4 21.41c.39.39.9.59 1.41.59.51 0 1.02-.2 1.41-.59l7.78-7.78 2.81-2.81c.8-.78.8-2.07 0-2.86zM5.41 20L4 18.59l7.72-7.72 1.47 1.35L5.41 20z\"/>\n",
              "  </svg>\n",
              "      </button>\n",
              "      \n",
              "  <style>\n",
              "    .colab-df-container {\n",
              "      display:flex;\n",
              "      flex-wrap:wrap;\n",
              "      gap: 12px;\n",
              "    }\n",
              "\n",
              "    .colab-df-convert {\n",
              "      background-color: #E8F0FE;\n",
              "      border: none;\n",
              "      border-radius: 50%;\n",
              "      cursor: pointer;\n",
              "      display: none;\n",
              "      fill: #1967D2;\n",
              "      height: 32px;\n",
              "      padding: 0 0 0 0;\n",
              "      width: 32px;\n",
              "    }\n",
              "\n",
              "    .colab-df-convert:hover {\n",
              "      background-color: #E2EBFA;\n",
              "      box-shadow: 0px 1px 2px rgba(60, 64, 67, 0.3), 0px 1px 3px 1px rgba(60, 64, 67, 0.15);\n",
              "      fill: #174EA6;\n",
              "    }\n",
              "\n",
              "    [theme=dark] .colab-df-convert {\n",
              "      background-color: #3B4455;\n",
              "      fill: #D2E3FC;\n",
              "    }\n",
              "\n",
              "    [theme=dark] .colab-df-convert:hover {\n",
              "      background-color: #434B5C;\n",
              "      box-shadow: 0px 1px 3px 1px rgba(0, 0, 0, 0.15);\n",
              "      filter: drop-shadow(0px 1px 2px rgba(0, 0, 0, 0.3));\n",
              "      fill: #FFFFFF;\n",
              "    }\n",
              "  </style>\n",
              "\n",
              "      <script>\n",
              "        const buttonEl =\n",
              "          document.querySelector('#df-6fa40f1c-00b6-4565-ba3e-77ba021f12d6 button.colab-df-convert');\n",
              "        buttonEl.style.display =\n",
              "          google.colab.kernel.accessAllowed ? 'block' : 'none';\n",
              "\n",
              "        async function convertToInteractive(key) {\n",
              "          const element = document.querySelector('#df-6fa40f1c-00b6-4565-ba3e-77ba021f12d6');\n",
              "          const dataTable =\n",
              "            await google.colab.kernel.invokeFunction('convertToInteractive',\n",
              "                                                     [key], {});\n",
              "          if (!dataTable) return;\n",
              "\n",
              "          const docLinkHtml = 'Like what you see? Visit the ' +\n",
              "            '<a target=\"_blank\" href=https://colab.research.google.com/notebooks/data_table.ipynb>data table notebook</a>'\n",
              "            + ' to learn more about interactive tables.';\n",
              "          element.innerHTML = '';\n",
              "          dataTable['output_type'] = 'display_data';\n",
              "          await google.colab.output.renderOutput(dataTable, element);\n",
              "          const docLink = document.createElement('div');\n",
              "          docLink.innerHTML = docLinkHtml;\n",
              "          element.appendChild(docLink);\n",
              "        }\n",
              "      </script>\n",
              "    </div>\n",
              "  </div>\n",
              "  "
            ]
          },
          "metadata": {},
          "execution_count": 140
        }
      ],
      "source": [
        "df_perf = pd.DataFrame(data = [['KNN',kNN_f1,kNN_best_f1],\n",
        "                               ['Logistic Regression',logr_f1,logr_best_f1],\n",
        "                               ['Decision Tree',dt_f1,dt_best_f1]],\n",
        "                       columns = ['Model','F1 score before Tuning','F1 score after Tuning'])\n",
        "df = df_perf.sort_values(by = 'F1 score after Tuning').reset_index(drop = True)\n",
        "df"
      ]
    },
    {
      "cell_type": "code",
      "source": [
        "                               ['Support Vector Machine',svm_auc],\n",
        "                               ['Random Forest',rf_auc],['XGBoost',xgb_auc]],"
      ],
      "metadata": {
        "id": "8pQk-Lqtc0Sv"
      },
      "id": "8pQk-Lqtc0Sv",
      "execution_count": null,
      "outputs": []
    },
    {
      "cell_type": "code",
      "execution_count": 25,
      "id": "19498448",
      "metadata": {
        "id": "19498448"
      },
      "outputs": [],
      "source": []
    }
  ],
  "metadata": {
    "kernelspec": {
      "display_name": "Python 3 (ipykernel)",
      "language": "python",
      "name": "python3"
    },
    "language_info": {
      "codemirror_mode": {
        "name": "ipython",
        "version": 3
      },
      "file_extension": ".py",
      "mimetype": "text/x-python",
      "name": "python",
      "nbconvert_exporter": "python",
      "pygments_lexer": "ipython3",
      "version": "3.7.11"
    },
    "colab": {
      "provenance": [],
      "collapsed_sections": [],
      "include_colab_link": true
    }
  },
  "nbformat": 4,
  "nbformat_minor": 5
}