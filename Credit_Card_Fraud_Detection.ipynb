{
  "cells": [
    {
      "cell_type": "markdown",
      "metadata": {
        "id": "view-in-github",
        "colab_type": "text"
      },
      "source": [
        "<a href=\"https://colab.research.google.com/github/aakanshadalmia/Data-Science/blob/main/Credit_Card_Fraud_Detection.ipynb\" target=\"_parent\"><img src=\"https://colab.research.google.com/assets/colab-badge.svg\" alt=\"Open In Colab\"/></a>"
      ]
    },
    {
      "cell_type": "markdown",
      "metadata": {
        "id": "fb8ec695"
      },
      "source": [
        "# Credit Card Fraud Detection\n",
        "-------------------------\n",
        "\n",
        "**Problem Statement:** The challenge is for credit card companies to recognize fraudulent credit card transactions so that customers are not charged for items that they did not purchase.\n",
        " \n",
        "**Goal:** This project is aimed at finding a classification model with the best performance for an imbalanced dataset.\n",
        "\n",
        "**Evaluation Metrics Used:** AUC-ROC Curve\n",
        "\n",
        "**To be Explored**:\n",
        "- Hyperparamter tuning\n",
        "\n",
        "- PCA\n",
        "\n",
        "- Decision tree Visualization\n"
      ],
      "id": "fb8ec695"
    },
    {
      "cell_type": "markdown",
      "metadata": {
        "id": "cf57e3ae"
      },
      "source": [
        "## About the Dataset\n",
        "---------\n",
        "\n",
        "The dataset contains transactions made by credit cards in September 2013 by European cardholders.\n",
        "\n",
        "This dataset presents transactions that occurred in two days, where we have 492 frauds out of 284,807 transactions. The dataset is **highly unbalanced, the positive class (frauds) account for 0.172% of all transactions.**\n",
        "\n",
        "It contains only numerical input variables which are the result of a PCA transformation. Due to confidentiality issues, the original features and more background information about the data has been omitted.\n",
        "\n",
        "Features V1, V2, … V28 are the principal components obtained with PCA, the only features which have not been transformed with PCA are 'Time' and 'Amount'. Feature 'Time' contains the seconds elapsed between each transaction and the first transaction in the dataset. The feature 'Amount' is the transaction Amount, this feature can be used for example-dependant cost-sensitive learning. \n",
        "\n",
        "**Feature 'Class' is the response variable and it takes value 1 in case of fraud and 0 otherwise.**\n",
        "\n",
        "_Given the class imbalance ratio, Area Under the Precision-Recall Curve (AUPRC) has been used for evaluation instead of using a Confusion matrix to determine accuracy for the unbalanced classification._"
      ],
      "id": "cf57e3ae"
    },
    {
      "cell_type": "code",
      "execution_count": 1,
      "metadata": {
        "id": "f08f002c"
      },
      "outputs": [],
      "source": [
        "#Import all required libraries\n",
        "\n",
        "import pandas as pd\n",
        "import numpy as np\n",
        "from sklearn.model_selection import train_test_split\n",
        "from sklearn import metrics\n",
        "from sklearn.neighbors import KNeighborsClassifier\n",
        "from sklearn.linear_model import LogisticRegression\n",
        "from sklearn.tree import DecisionTreeClassifier, plot_tree\n",
        "from sklearn.svm import SVC\n",
        "from sklearn.ensemble import RandomForestClassifier\n",
        "from xgboost import XGBClassifier\n",
        "from sklearn.model_selection import GridSearchCV\n",
        "from sklearn.decomposition import PCA"
      ],
      "id": "f08f002c"
    },
    {
      "cell_type": "code",
      "source": [
        "from google.colab import drive\n",
        "drive.mount('/content/drive')"
      ],
      "metadata": {
        "colab": {
          "base_uri": "https://localhost:8080/"
        },
        "id": "m5WH6CVuQxAs",
        "outputId": "d55fdfd4-d072-4c8d-c88f-64fa107f11b8"
      },
      "id": "m5WH6CVuQxAs",
      "execution_count": 2,
      "outputs": [
        {
          "output_type": "stream",
          "name": "stdout",
          "text": [
            "Drive already mounted at /content/drive; to attempt to forcibly remount, call drive.mount(\"/content/drive\", force_remount=True).\n"
          ]
        }
      ]
    },
    {
      "cell_type": "code",
      "execution_count": 3,
      "metadata": {
        "id": "80e7cabf"
      },
      "outputs": [],
      "source": [
        "#Reading data from csv file into a dataframe\n",
        "\n",
        "data = pd.read_csv(\"/content/drive/MyDrive/creditcard.csv\")"
      ],
      "id": "80e7cabf"
    },
    {
      "cell_type": "code",
      "execution_count": 4,
      "metadata": {
        "colab": {
          "base_uri": "https://localhost:8080/",
          "height": 299
        },
        "id": "0a775c90",
        "outputId": "a10d7567-356e-4f3e-8b87-2b50cb691581"
      },
      "outputs": [
        {
          "output_type": "execute_result",
          "data": {
            "text/plain": [
              "   Time        V1        V2        V3        V4        V5        V6        V7  \\\n",
              "0   0.0 -1.359807 -0.072781  2.536347  1.378155 -0.338321  0.462388  0.239599   \n",
              "1   0.0  1.191857  0.266151  0.166480  0.448154  0.060018 -0.082361 -0.078803   \n",
              "2   1.0 -1.358354 -1.340163  1.773209  0.379780 -0.503198  1.800499  0.791461   \n",
              "3   1.0 -0.966272 -0.185226  1.792993 -0.863291 -0.010309  1.247203  0.237609   \n",
              "4   2.0 -1.158233  0.877737  1.548718  0.403034 -0.407193  0.095921  0.592941   \n",
              "\n",
              "         V8        V9  ...       V21       V22       V23       V24       V25  \\\n",
              "0  0.098698  0.363787  ... -0.018307  0.277838 -0.110474  0.066928  0.128539   \n",
              "1  0.085102 -0.255425  ... -0.225775 -0.638672  0.101288 -0.339846  0.167170   \n",
              "2  0.247676 -1.514654  ...  0.247998  0.771679  0.909412 -0.689281 -0.327642   \n",
              "3  0.377436 -1.387024  ... -0.108300  0.005274 -0.190321 -1.175575  0.647376   \n",
              "4 -0.270533  0.817739  ... -0.009431  0.798278 -0.137458  0.141267 -0.206010   \n",
              "\n",
              "        V26       V27       V28  Amount  Class  \n",
              "0 -0.189115  0.133558 -0.021053  149.62      0  \n",
              "1  0.125895 -0.008983  0.014724    2.69      0  \n",
              "2 -0.139097 -0.055353 -0.059752  378.66      0  \n",
              "3 -0.221929  0.062723  0.061458  123.50      0  \n",
              "4  0.502292  0.219422  0.215153   69.99      0  \n",
              "\n",
              "[5 rows x 31 columns]"
            ],
            "text/html": [
              "\n",
              "  <div id=\"df-2978b7bd-46c1-4abd-aac2-af8d5049ed23\">\n",
              "    <div class=\"colab-df-container\">\n",
              "      <div>\n",
              "<style scoped>\n",
              "    .dataframe tbody tr th:only-of-type {\n",
              "        vertical-align: middle;\n",
              "    }\n",
              "\n",
              "    .dataframe tbody tr th {\n",
              "        vertical-align: top;\n",
              "    }\n",
              "\n",
              "    .dataframe thead th {\n",
              "        text-align: right;\n",
              "    }\n",
              "</style>\n",
              "<table border=\"1\" class=\"dataframe\">\n",
              "  <thead>\n",
              "    <tr style=\"text-align: right;\">\n",
              "      <th></th>\n",
              "      <th>Time</th>\n",
              "      <th>V1</th>\n",
              "      <th>V2</th>\n",
              "      <th>V3</th>\n",
              "      <th>V4</th>\n",
              "      <th>V5</th>\n",
              "      <th>V6</th>\n",
              "      <th>V7</th>\n",
              "      <th>V8</th>\n",
              "      <th>V9</th>\n",
              "      <th>...</th>\n",
              "      <th>V21</th>\n",
              "      <th>V22</th>\n",
              "      <th>V23</th>\n",
              "      <th>V24</th>\n",
              "      <th>V25</th>\n",
              "      <th>V26</th>\n",
              "      <th>V27</th>\n",
              "      <th>V28</th>\n",
              "      <th>Amount</th>\n",
              "      <th>Class</th>\n",
              "    </tr>\n",
              "  </thead>\n",
              "  <tbody>\n",
              "    <tr>\n",
              "      <th>0</th>\n",
              "      <td>0.0</td>\n",
              "      <td>-1.359807</td>\n",
              "      <td>-0.072781</td>\n",
              "      <td>2.536347</td>\n",
              "      <td>1.378155</td>\n",
              "      <td>-0.338321</td>\n",
              "      <td>0.462388</td>\n",
              "      <td>0.239599</td>\n",
              "      <td>0.098698</td>\n",
              "      <td>0.363787</td>\n",
              "      <td>...</td>\n",
              "      <td>-0.018307</td>\n",
              "      <td>0.277838</td>\n",
              "      <td>-0.110474</td>\n",
              "      <td>0.066928</td>\n",
              "      <td>0.128539</td>\n",
              "      <td>-0.189115</td>\n",
              "      <td>0.133558</td>\n",
              "      <td>-0.021053</td>\n",
              "      <td>149.62</td>\n",
              "      <td>0</td>\n",
              "    </tr>\n",
              "    <tr>\n",
              "      <th>1</th>\n",
              "      <td>0.0</td>\n",
              "      <td>1.191857</td>\n",
              "      <td>0.266151</td>\n",
              "      <td>0.166480</td>\n",
              "      <td>0.448154</td>\n",
              "      <td>0.060018</td>\n",
              "      <td>-0.082361</td>\n",
              "      <td>-0.078803</td>\n",
              "      <td>0.085102</td>\n",
              "      <td>-0.255425</td>\n",
              "      <td>...</td>\n",
              "      <td>-0.225775</td>\n",
              "      <td>-0.638672</td>\n",
              "      <td>0.101288</td>\n",
              "      <td>-0.339846</td>\n",
              "      <td>0.167170</td>\n",
              "      <td>0.125895</td>\n",
              "      <td>-0.008983</td>\n",
              "      <td>0.014724</td>\n",
              "      <td>2.69</td>\n",
              "      <td>0</td>\n",
              "    </tr>\n",
              "    <tr>\n",
              "      <th>2</th>\n",
              "      <td>1.0</td>\n",
              "      <td>-1.358354</td>\n",
              "      <td>-1.340163</td>\n",
              "      <td>1.773209</td>\n",
              "      <td>0.379780</td>\n",
              "      <td>-0.503198</td>\n",
              "      <td>1.800499</td>\n",
              "      <td>0.791461</td>\n",
              "      <td>0.247676</td>\n",
              "      <td>-1.514654</td>\n",
              "      <td>...</td>\n",
              "      <td>0.247998</td>\n",
              "      <td>0.771679</td>\n",
              "      <td>0.909412</td>\n",
              "      <td>-0.689281</td>\n",
              "      <td>-0.327642</td>\n",
              "      <td>-0.139097</td>\n",
              "      <td>-0.055353</td>\n",
              "      <td>-0.059752</td>\n",
              "      <td>378.66</td>\n",
              "      <td>0</td>\n",
              "    </tr>\n",
              "    <tr>\n",
              "      <th>3</th>\n",
              "      <td>1.0</td>\n",
              "      <td>-0.966272</td>\n",
              "      <td>-0.185226</td>\n",
              "      <td>1.792993</td>\n",
              "      <td>-0.863291</td>\n",
              "      <td>-0.010309</td>\n",
              "      <td>1.247203</td>\n",
              "      <td>0.237609</td>\n",
              "      <td>0.377436</td>\n",
              "      <td>-1.387024</td>\n",
              "      <td>...</td>\n",
              "      <td>-0.108300</td>\n",
              "      <td>0.005274</td>\n",
              "      <td>-0.190321</td>\n",
              "      <td>-1.175575</td>\n",
              "      <td>0.647376</td>\n",
              "      <td>-0.221929</td>\n",
              "      <td>0.062723</td>\n",
              "      <td>0.061458</td>\n",
              "      <td>123.50</td>\n",
              "      <td>0</td>\n",
              "    </tr>\n",
              "    <tr>\n",
              "      <th>4</th>\n",
              "      <td>2.0</td>\n",
              "      <td>-1.158233</td>\n",
              "      <td>0.877737</td>\n",
              "      <td>1.548718</td>\n",
              "      <td>0.403034</td>\n",
              "      <td>-0.407193</td>\n",
              "      <td>0.095921</td>\n",
              "      <td>0.592941</td>\n",
              "      <td>-0.270533</td>\n",
              "      <td>0.817739</td>\n",
              "      <td>...</td>\n",
              "      <td>-0.009431</td>\n",
              "      <td>0.798278</td>\n",
              "      <td>-0.137458</td>\n",
              "      <td>0.141267</td>\n",
              "      <td>-0.206010</td>\n",
              "      <td>0.502292</td>\n",
              "      <td>0.219422</td>\n",
              "      <td>0.215153</td>\n",
              "      <td>69.99</td>\n",
              "      <td>0</td>\n",
              "    </tr>\n",
              "  </tbody>\n",
              "</table>\n",
              "<p>5 rows × 31 columns</p>\n",
              "</div>\n",
              "      <button class=\"colab-df-convert\" onclick=\"convertToInteractive('df-2978b7bd-46c1-4abd-aac2-af8d5049ed23')\"\n",
              "              title=\"Convert this dataframe to an interactive table.\"\n",
              "              style=\"display:none;\">\n",
              "        \n",
              "  <svg xmlns=\"http://www.w3.org/2000/svg\" height=\"24px\"viewBox=\"0 0 24 24\"\n",
              "       width=\"24px\">\n",
              "    <path d=\"M0 0h24v24H0V0z\" fill=\"none\"/>\n",
              "    <path d=\"M18.56 5.44l.94 2.06.94-2.06 2.06-.94-2.06-.94-.94-2.06-.94 2.06-2.06.94zm-11 1L8.5 8.5l.94-2.06 2.06-.94-2.06-.94L8.5 2.5l-.94 2.06-2.06.94zm10 10l.94 2.06.94-2.06 2.06-.94-2.06-.94-.94-2.06-.94 2.06-2.06.94z\"/><path d=\"M17.41 7.96l-1.37-1.37c-.4-.4-.92-.59-1.43-.59-.52 0-1.04.2-1.43.59L10.3 9.45l-7.72 7.72c-.78.78-.78 2.05 0 2.83L4 21.41c.39.39.9.59 1.41.59.51 0 1.02-.2 1.41-.59l7.78-7.78 2.81-2.81c.8-.78.8-2.07 0-2.86zM5.41 20L4 18.59l7.72-7.72 1.47 1.35L5.41 20z\"/>\n",
              "  </svg>\n",
              "      </button>\n",
              "      \n",
              "  <style>\n",
              "    .colab-df-container {\n",
              "      display:flex;\n",
              "      flex-wrap:wrap;\n",
              "      gap: 12px;\n",
              "    }\n",
              "\n",
              "    .colab-df-convert {\n",
              "      background-color: #E8F0FE;\n",
              "      border: none;\n",
              "      border-radius: 50%;\n",
              "      cursor: pointer;\n",
              "      display: none;\n",
              "      fill: #1967D2;\n",
              "      height: 32px;\n",
              "      padding: 0 0 0 0;\n",
              "      width: 32px;\n",
              "    }\n",
              "\n",
              "    .colab-df-convert:hover {\n",
              "      background-color: #E2EBFA;\n",
              "      box-shadow: 0px 1px 2px rgba(60, 64, 67, 0.3), 0px 1px 3px 1px rgba(60, 64, 67, 0.15);\n",
              "      fill: #174EA6;\n",
              "    }\n",
              "\n",
              "    [theme=dark] .colab-df-convert {\n",
              "      background-color: #3B4455;\n",
              "      fill: #D2E3FC;\n",
              "    }\n",
              "\n",
              "    [theme=dark] .colab-df-convert:hover {\n",
              "      background-color: #434B5C;\n",
              "      box-shadow: 0px 1px 3px 1px rgba(0, 0, 0, 0.15);\n",
              "      filter: drop-shadow(0px 1px 2px rgba(0, 0, 0, 0.3));\n",
              "      fill: #FFFFFF;\n",
              "    }\n",
              "  </style>\n",
              "\n",
              "      <script>\n",
              "        const buttonEl =\n",
              "          document.querySelector('#df-2978b7bd-46c1-4abd-aac2-af8d5049ed23 button.colab-df-convert');\n",
              "        buttonEl.style.display =\n",
              "          google.colab.kernel.accessAllowed ? 'block' : 'none';\n",
              "\n",
              "        async function convertToInteractive(key) {\n",
              "          const element = document.querySelector('#df-2978b7bd-46c1-4abd-aac2-af8d5049ed23');\n",
              "          const dataTable =\n",
              "            await google.colab.kernel.invokeFunction('convertToInteractive',\n",
              "                                                     [key], {});\n",
              "          if (!dataTable) return;\n",
              "\n",
              "          const docLinkHtml = 'Like what you see? Visit the ' +\n",
              "            '<a target=\"_blank\" href=https://colab.research.google.com/notebooks/data_table.ipynb>data table notebook</a>'\n",
              "            + ' to learn more about interactive tables.';\n",
              "          element.innerHTML = '';\n",
              "          dataTable['output_type'] = 'display_data';\n",
              "          await google.colab.output.renderOutput(dataTable, element);\n",
              "          const docLink = document.createElement('div');\n",
              "          docLink.innerHTML = docLinkHtml;\n",
              "          element.appendChild(docLink);\n",
              "        }\n",
              "      </script>\n",
              "    </div>\n",
              "  </div>\n",
              "  "
            ]
          },
          "metadata": {},
          "execution_count": 4
        }
      ],
      "source": [
        "data.head()"
      ],
      "id": "0a775c90"
    },
    {
      "cell_type": "code",
      "execution_count": 5,
      "metadata": {
        "id": "i4rPEJzZQcTP"
      },
      "outputs": [],
      "source": [
        "data.isna().sum()\n",
        "data = data.fillna(0)"
      ],
      "id": "i4rPEJzZQcTP"
    },
    {
      "cell_type": "code",
      "execution_count": 6,
      "metadata": {
        "colab": {
          "base_uri": "https://localhost:8080/"
        },
        "id": "522b3c2b",
        "outputId": "3ef7598c-6b5a-49e3-ecd7-a7709b269620"
      },
      "outputs": [
        {
          "output_type": "stream",
          "name": "stdout",
          "text": [
            "Total number of transactions: 284807\n",
            "Legitimate Transactions: 284315\n",
            "Fraud Transactions: 492\n",
            "% of Fraud Transactions: 0.1727\n"
          ]
        }
      ],
      "source": [
        "#Estimating the imbalance in the dataset\n",
        "\n",
        "print(\"Total number of transactions:\", len(data))\n",
        "normal = len(data[data.Class == 0])\n",
        "fraud = len(data[data.Class == 1])\n",
        "print(\"Legitimate Transactions:\", normal)\n",
        "print(\"Fraud Transactions:\", fraud)\n",
        "print(\"% of Fraud Transactions:\", round(fraud / len(data) * 100,4))"
      ],
      "id": "522b3c2b"
    },
    {
      "cell_type": "code",
      "execution_count": 7,
      "metadata": {
        "id": "74d39776"
      },
      "outputs": [],
      "source": [
        "#Defining the training and testing datasets\n",
        "\n",
        "X = data.drop('Class',axis = 1)\n",
        "Y = data.Class.values\n",
        "\n",
        "X_train, X_test, Y_train, Y_test = train_test_split(X, Y, test_size = 0.3, random_state = 1)"
      ],
      "id": "74d39776"
    },
    {
      "cell_type": "markdown",
      "metadata": {
        "id": "vPvZogk3Anqu"
      },
      "source": [
        "# Principal Component Analysis"
      ],
      "id": "vPvZogk3Anqu"
    },
    {
      "cell_type": "code",
      "source": [
        "from sklearn.preprocessing import StandardScaler, MinMaxScaler\n",
        "\n",
        "scaler = MinMaxScaler()\n",
        "scaler.fit(X_train)\n",
        "X_train_scaled = scaler.transform(X_train)\n",
        "X_test_scaled = scaler.transform(X_test)"
      ],
      "metadata": {
        "id": "iFI6TxnbhKPf"
      },
      "id": "iFI6TxnbhKPf",
      "execution_count": 8,
      "outputs": []
    },
    {
      "cell_type": "code",
      "execution_count": 9,
      "metadata": {
        "id": "E4JYhserABTp"
      },
      "outputs": [],
      "source": [
        "pca = PCA(n_components = 10).fit(X_train_scaled)"
      ],
      "id": "E4JYhserABTp"
    },
    {
      "cell_type": "code",
      "execution_count": 10,
      "metadata": {
        "colab": {
          "base_uri": "https://localhost:8080/"
        },
        "id": "kl99I240AA4p",
        "outputId": "745e6e91-67d1-4d96-ada7-bc3f17601aa7"
      },
      "outputs": [
        {
          "output_type": "execute_result",
          "data": {
            "text/plain": [
              "(199364, 10)"
            ]
          },
          "metadata": {},
          "execution_count": 10
        }
      ],
      "source": [
        "X_train_pca = pca.transform(X_train_scaled)\n",
        "X_train_pca.shape"
      ],
      "id": "kl99I240AA4p"
    },
    {
      "cell_type": "code",
      "execution_count": 11,
      "metadata": {
        "id": "41Soq3IcAAr7"
      },
      "outputs": [],
      "source": [
        "X_test_pca = pca.transform(X_test_scaled)"
      ],
      "id": "41Soq3IcAAr7"
    },
    {
      "cell_type": "markdown",
      "metadata": {
        "id": "4a1ab62e"
      },
      "source": [
        "## K-Nearest Neighbours"
      ],
      "id": "4a1ab62e"
    },
    {
      "cell_type": "code",
      "execution_count": 50,
      "metadata": {
        "id": "2e8f39d7"
      },
      "outputs": [],
      "source": [
        "#Model Building\n",
        "\n",
        "kNN = KNeighborsClassifier(n_neighbors = 5, n_jobs = -1, leaf_size = 600)\n",
        "kNN.fit(X_train_pca, Y_train)\n",
        "\n",
        "#Applying model to test dataset\n",
        "kNN_Y_pred = kNN.predict(X_test_pca)"
      ],
      "id": "2e8f39d7"
    },
    {
      "cell_type": "code",
      "execution_count": 51,
      "metadata": {
        "id": "8ab71d06",
        "colab": {
          "base_uri": "https://localhost:8080/"
        },
        "outputId": "6ceffb5a-d6f5-4d3c-d01d-d45c46cfae3f"
      },
      "outputs": [
        {
          "output_type": "stream",
          "name": "stdout",
          "text": [
            "F1 score for kNN model is: 0.7239819004524887\n"
          ]
        }
      ],
      "source": [
        "#Model Evaluation\n",
        "\n",
        "kNN_f1 = metrics.f1_score(Y_test,kNN_Y_pred)\n",
        "print(\"F1 score for kNN model is:\",kNN_f1)"
      ],
      "id": "8ab71d06"
    },
    {
      "cell_type": "code",
      "execution_count": 52,
      "metadata": {
        "id": "813c5ea8",
        "colab": {
          "base_uri": "https://localhost:8080/"
        },
        "outputId": "c34f3efb-c611-400b-aac1-05de57875edd"
      },
      "outputs": [
        {
          "output_type": "stream",
          "name": "stdout",
          "text": [
            "Fitting 3 folds for each of 8 candidates, totalling 24 fits\n"
          ]
        },
        {
          "output_type": "execute_result",
          "data": {
            "text/plain": [
              "GridSearchCV(cv=3, estimator=KNeighborsClassifier(), n_jobs=-1,\n",
              "             param_grid={'metric': ['euclidean', 'manhattan'],\n",
              "                         'n_neighbors': [3, 6, 9, 12]},\n",
              "             scoring='f1', verbose=10)"
            ]
          },
          "metadata": {},
          "execution_count": 52
        }
      ],
      "source": [
        "#Hyperparameter Tuning\n",
        "grid_params = {'n_neighbors' : list(range(3,15,3)),\n",
        "               'metric' : ['euclidean','manhattan']}\n",
        "\n",
        "gridsearch_kNN = GridSearchCV(KNeighborsClassifier(), grid_params, cv = 3, scoring = 'f1', n_jobs = -1, verbose = 10)\n",
        "gridsearch_kNN.fit(X_train_pca, Y_train)\n",
        "gridsearch_kNN"
      ],
      "id": "813c5ea8"
    },
    {
      "cell_type": "code",
      "execution_count": 53,
      "metadata": {
        "id": "jEZlzIxKCmTX",
        "colab": {
          "base_uri": "https://localhost:8080/"
        },
        "outputId": "1e752561-edcb-4d6d-aec6-ef7d4fefb779"
      },
      "outputs": [
        {
          "output_type": "stream",
          "name": "stdout",
          "text": [
            "Best possible Cross Validation score: 0.7674746856128912\n"
          ]
        }
      ],
      "source": [
        "print(\"Best possible Cross Validation score:\",gridsearch_kNN.best_score_)"
      ],
      "id": "jEZlzIxKCmTX"
    },
    {
      "cell_type": "code",
      "execution_count": 54,
      "metadata": {
        "id": "K2vdnbgqDABc",
        "colab": {
          "base_uri": "https://localhost:8080/"
        },
        "outputId": "48b02236-59d1-4f98-e4a2-a26d5a31620b"
      },
      "outputs": [
        {
          "output_type": "execute_result",
          "data": {
            "text/plain": [
              "{'metric': 'euclidean', 'n_neighbors': 3}"
            ]
          },
          "metadata": {},
          "execution_count": 54
        }
      ],
      "source": [
        "gridsearch_kNN.best_params_"
      ],
      "id": "K2vdnbgqDABc"
    },
    {
      "cell_type": "code",
      "execution_count": 55,
      "metadata": {
        "id": "oWtSK_9aC44W"
      },
      "outputs": [],
      "source": [
        "kNN_tuned = KNeighborsClassifier(gridsearch_kNN.best_params_['n_neighbors'], metric = gridsearch_kNN.best_params_['metric'])\n",
        "kNN_tuned.fit(X_train_pca,Y_train)\n",
        "kNN_tuned_Y_pred = kNN_tuned.predict(X_test_pca)"
      ],
      "id": "oWtSK_9aC44W"
    },
    {
      "cell_type": "code",
      "execution_count": 56,
      "metadata": {
        "id": "xdOpLEpUE9tf",
        "colab": {
          "base_uri": "https://localhost:8080/"
        },
        "outputId": "80746f22-47fe-4add-ffeb-0b0bc13234e3"
      },
      "outputs": [
        {
          "output_type": "stream",
          "name": "stdout",
          "text": [
            "F1 score for kNN model after hyperparameter tuning is: 0.7454545454545455\n"
          ]
        }
      ],
      "source": [
        "#Model Evaluation\n",
        "\n",
        "kNN_best_f1 = metrics.f1_score(Y_test,kNN_tuned_Y_pred)\n",
        "print(\"F1 score for kNN model after hyperparameter tuning is:\",kNN_best_f1)"
      ],
      "id": "xdOpLEpUE9tf"
    },
    {
      "cell_type": "markdown",
      "metadata": {
        "id": "4711db28"
      },
      "source": [
        "## Logistic Regression"
      ],
      "id": "4711db28"
    },
    {
      "cell_type": "code",
      "execution_count": 57,
      "metadata": {
        "id": "9b789501",
        "colab": {
          "base_uri": "https://localhost:8080/"
        },
        "outputId": "7fc1aac6-759d-4e65-e346-372a69e19511"
      },
      "outputs": [
        {
          "output_type": "stream",
          "name": "stderr",
          "text": [
            "[Parallel(n_jobs=-1)]: Using backend LokyBackend with 2 concurrent workers.\n",
            "[Parallel(n_jobs=-1)]: Done   1 out of   1 | elapsed:    1.4s finished\n"
          ]
        },
        {
          "output_type": "execute_result",
          "data": {
            "text/plain": [
              "LogisticRegression(n_jobs=-1, verbose=2)"
            ]
          },
          "metadata": {},
          "execution_count": 57
        }
      ],
      "source": [
        "#Model Building\n",
        "\n",
        "log_reg = LogisticRegression(verbose = 2, n_jobs = -1)\n",
        "log_reg.fit(X_train_pca, Y_train)"
      ],
      "id": "9b789501"
    },
    {
      "cell_type": "code",
      "execution_count": 58,
      "metadata": {
        "id": "2d73b791"
      },
      "outputs": [],
      "source": [
        "#Applying model to test dataset\n",
        "\n",
        "LR_Y_pred = log_reg.predict(X_test_pca)"
      ],
      "id": "2d73b791"
    },
    {
      "cell_type": "code",
      "execution_count": 59,
      "metadata": {
        "id": "03885c81",
        "colab": {
          "base_uri": "https://localhost:8080/"
        },
        "outputId": "932eef2b-72af-43fb-8106-394454324fc2"
      },
      "outputs": [
        {
          "output_type": "stream",
          "name": "stdout",
          "text": [
            "F1 score for Logistic Regression model is: 0.5427135678391961\n"
          ]
        }
      ],
      "source": [
        "#Model Evaluation\n",
        "\n",
        "logr_f1 = metrics.f1_score(Y_test,LR_Y_pred)\n",
        "print(\"F1 score for Logistic Regression model is:\",logr_f1)"
      ],
      "id": "03885c81"
    },
    {
      "cell_type": "code",
      "execution_count": 60,
      "metadata": {
        "id": "B0Ss-pWoQ6r7",
        "colab": {
          "base_uri": "https://localhost:8080/"
        },
        "outputId": "7ce4e8f0-db0b-41a2-85d9-9b980aa6cbac"
      },
      "outputs": [
        {
          "output_type": "execute_result",
          "data": {
            "text/plain": [
              "GridSearchCV(cv=3, estimator=LogisticRegression(max_iter=500), n_jobs=-1,\n",
              "             param_grid={'class_weight': [{0: 1000, 1: 100}, {0: 1000, 1: 10},\n",
              "                                          {0: 1000, 1: 1.0}, {0: 500, 1: 1.0},\n",
              "                                          {0: 400, 1: 1.0}, {0: 300, 1: 1.0},\n",
              "                                          {0: 200, 1: 1.0}, {0: 1.0, 1: 10},\n",
              "                                          {0: 1.0, 1: 99}, {0: 1.0, 1: 100},\n",
              "                                          {0: 1.0, 1: 150}, {0: 1.0, 1: 200},\n",
              "                                          {0: 1.0, 1: 300}, {0: 1.0, 1: 400},\n",
              "                                          {0: 1.0, 1: 500}, {0: 1.0, 1: 1000},\n",
              "                                          {0: 10, 1: 1000},\n",
              "                                          {0: 100, 1: 1000}]},\n",
              "             scoring='f1')"
            ]
          },
          "metadata": {},
          "execution_count": 60
        }
      ],
      "source": [
        "#Hyperparameter Tuning\n",
        "\n",
        "w = [{0:1000,1:100},{0:1000,1:10}, {0:1000,1:1.0}, \n",
        "     {0:500,1:1.0}, {0:400,1:1.0}, {0:300,1:1.0}, {0:200,1:1.0}, \n",
        "     {0:1.0,1:10}, {0:1.0,1:99}, {0:1.0,1:100}, {0:1.0,1:150}, \n",
        "     {0:1.0,1:200}, {0:1.0,1:300},{0:1.0,1:400},{0:1.0,1:500}, \n",
        "     {0:1.0,1:1000}, {0:10,1:1000},{0:100,1:1000} ]\n",
        "crange = np.arange(0.5, 20.0, 0.5)\n",
        "param_grid = {\"class_weight\": w}\n",
        "\n",
        "gridsearch_logr = GridSearchCV(LogisticRegression(max_iter = 500), param_grid, cv = 3, scoring = 'f1', n_jobs = -1)\n",
        "gridsearch_logr.fit(X_train_pca,Y_train)"
      ],
      "id": "B0Ss-pWoQ6r7"
    },
    {
      "cell_type": "code",
      "execution_count": 61,
      "metadata": {
        "id": "yWcVNZ0vQ7Km",
        "colab": {
          "base_uri": "https://localhost:8080/"
        },
        "outputId": "c506b5c2-ed51-4133-98be-fea7dc269038"
      },
      "outputs": [
        {
          "output_type": "stream",
          "name": "stdout",
          "text": [
            "Cross validation score after tuning:  0.7529077322624754\n",
            "Final parameters after tuning {'class_weight': {0: 100, 1: 1000}}\n"
          ]
        }
      ],
      "source": [
        "print(\"Cross validation score after tuning: \",gridsearch_logr.best_score_)\n",
        "print(\"Final parameters after tuning\",gridsearch_logr.best_params_)"
      ],
      "id": "yWcVNZ0vQ7Km"
    },
    {
      "cell_type": "code",
      "execution_count": 62,
      "metadata": {
        "id": "OgcKKqAZV2Uu"
      },
      "outputs": [],
      "source": [
        "logr_tuned = LogisticRegression(class_weight = gridsearch_logr.best_params_['class_weight'], max_iter = 500)\n",
        "logr_tuned.fit(X_train_pca,Y_train)\n",
        "\n",
        "logr_tuned_pred = logr_tuned.predict(X_test_pca)"
      ],
      "id": "OgcKKqAZV2Uu"
    },
    {
      "cell_type": "code",
      "execution_count": 63,
      "metadata": {
        "id": "33NCTjvAWSYJ",
        "colab": {
          "base_uri": "https://localhost:8080/"
        },
        "outputId": "3d252f41-fe49-4929-c72c-7f8036ebbd0a"
      },
      "outputs": [
        {
          "output_type": "stream",
          "name": "stdout",
          "text": [
            "F1 score for Logistic Regression after Hyperparameter tuning is: 0.7081712062256809\n"
          ]
        }
      ],
      "source": [
        "#Model Evaluation\n",
        "\n",
        "logr_best_f1 = metrics.f1_score(Y_test,logr_tuned_pred)\n",
        "print(\"F1 score for Logistic Regression after Hyperparameter tuning is:\",logr_best_f1)"
      ],
      "id": "33NCTjvAWSYJ"
    },
    {
      "cell_type": "markdown",
      "metadata": {
        "id": "81c3d3c1"
      },
      "source": [
        "## Decision Tree"
      ],
      "id": "81c3d3c1"
    },
    {
      "cell_type": "code",
      "execution_count": 64,
      "metadata": {
        "id": "9d3e48cc",
        "colab": {
          "base_uri": "https://localhost:8080/"
        },
        "outputId": "68d0f447-31d5-4085-8adc-47bb24f1a5d1"
      },
      "outputs": [
        {
          "output_type": "execute_result",
          "data": {
            "text/plain": [
              "DecisionTreeClassifier(criterion='entropy')"
            ]
          },
          "metadata": {},
          "execution_count": 64
        }
      ],
      "source": [
        "#Model Building\n",
        "\n",
        "DT = DecisionTreeClassifier(criterion = 'entropy')\n",
        "DT.fit(X_train_pca,Y_train)"
      ],
      "id": "9d3e48cc"
    },
    {
      "cell_type": "code",
      "execution_count": 65,
      "metadata": {
        "id": "b09c7969"
      },
      "outputs": [],
      "source": [
        "#Applying model to test dataset\n",
        "\n",
        "DT_Y_pred = DT.predict(X_test_pca)"
      ],
      "id": "b09c7969"
    },
    {
      "cell_type": "code",
      "execution_count": 66,
      "metadata": {
        "id": "193f3860",
        "colab": {
          "base_uri": "https://localhost:8080/"
        },
        "outputId": "9f3aff92-73d1-4eb3-fe16-6cb79364e697"
      },
      "outputs": [
        {
          "output_type": "stream",
          "name": "stdout",
          "text": [
            "F1 score for Decision Tree model is: 0.6466165413533835\n"
          ]
        }
      ],
      "source": [
        "#Model Evaluation\n",
        "\n",
        "dt_f1 = metrics.f1_score(Y_test, DT_Y_pred)\n",
        "print(\"F1 score for Decision Tree model is:\",dt_f1)"
      ],
      "id": "193f3860"
    },
    {
      "cell_type": "code",
      "execution_count": 67,
      "metadata": {
        "id": "1a26c850",
        "colab": {
          "base_uri": "https://localhost:8080/"
        },
        "outputId": "01e389df-1f99-432d-822c-b0c40f9270f0"
      },
      "outputs": [
        {
          "output_type": "execute_result",
          "data": {
            "text/plain": [
              "GridSearchCV(cv=3, estimator=DecisionTreeClassifier(), n_jobs=-1,\n",
              "             param_grid={'criterion': ['gini', 'entropy'],\n",
              "                         'max_depth': [2, 3, 4, 5, 6, 7, 8, 9],\n",
              "                         'min_samples_leaf': [5, 10, 15, 20]},\n",
              "             scoring='f1')"
            ]
          },
          "metadata": {},
          "execution_count": 67
        }
      ],
      "source": [
        "#Hyperparameter Tuning\n",
        "\n",
        "criteria = ['gini', 'entropy']\n",
        "max_depth = list(range(2,10))\n",
        "min_samples_leaf = [5,10,15,20]\n",
        "\n",
        "param_grid = {\"criterion\" : criteria, \"max_depth\" : max_depth, \"min_samples_leaf\" : min_samples_leaf}\n",
        "\n",
        "gridsearch_dt = GridSearchCV(DecisionTreeClassifier(), param_grid, cv = 3, scoring = 'f1', n_jobs = -1)\n",
        "gridsearch_dt.fit(X_train_pca,Y_train)"
      ],
      "id": "1a26c850"
    },
    {
      "cell_type": "code",
      "execution_count": 68,
      "metadata": {
        "id": "Kw29H4eleTzg",
        "colab": {
          "base_uri": "https://localhost:8080/"
        },
        "outputId": "78206e00-8783-4fd9-b19b-1373028553ca"
      },
      "outputs": [
        {
          "output_type": "stream",
          "name": "stdout",
          "text": [
            "Cross validation score after tuning:  0.7831620269976435\n",
            "Final parameters after tuning {'criterion': 'entropy', 'max_depth': 4, 'min_samples_leaf': 10}\n"
          ]
        }
      ],
      "source": [
        "print(\"Cross validation score after tuning: \",gridsearch_dt.best_score_)\n",
        "print(\"Final parameters after tuning\",gridsearch_dt.best_params_)"
      ],
      "id": "Kw29H4eleTzg"
    },
    {
      "cell_type": "code",
      "execution_count": 69,
      "metadata": {
        "id": "8-sKEbR6eUS1"
      },
      "outputs": [],
      "source": [
        "dt_tuned = DecisionTreeClassifier(criterion = gridsearch_dt.best_params_['criterion'],\n",
        "                                  max_depth = gridsearch_dt.best_params_['max_depth'],\n",
        "                                  min_samples_leaf = gridsearch_dt.best_params_['min_samples_leaf'])\n",
        "dt_tuned.fit(X_train_pca,Y_train)\n",
        "\n",
        "dt_tuned_pred = dt_tuned.predict(X_test_pca)"
      ],
      "id": "8-sKEbR6eUS1"
    },
    {
      "cell_type": "code",
      "execution_count": 70,
      "metadata": {
        "id": "3q0IHNsheeM0",
        "colab": {
          "base_uri": "https://localhost:8080/"
        },
        "outputId": "ffa52649-0194-47ba-8eaf-f59c3563a29c"
      },
      "outputs": [
        {
          "output_type": "stream",
          "name": "stdout",
          "text": [
            "F1 score for Decision Tree model is: 0.7272727272727273\n"
          ]
        }
      ],
      "source": [
        "#Model Evaluation\n",
        "\n",
        "dt_best_f1 = metrics.f1_score(Y_test, dt_tuned_pred)\n",
        "print(\"F1 score for Decision Tree model is:\",dt_best_f1)"
      ],
      "id": "3q0IHNsheeM0"
    },
    {
      "cell_type": "markdown",
      "metadata": {
        "id": "ceb7920c"
      },
      "source": [
        "## Support Vector Machine"
      ],
      "id": "ceb7920c"
    },
    {
      "cell_type": "code",
      "execution_count": 12,
      "metadata": {
        "colab": {
          "base_uri": "https://localhost:8080/"
        },
        "id": "fd0cd6ee",
        "outputId": "2efd5616-b4e5-41cc-b822-a0890232f30a"
      },
      "outputs": [
        {
          "output_type": "execute_result",
          "data": {
            "text/plain": [
              "SVC(max_iter=10000)"
            ]
          },
          "metadata": {},
          "execution_count": 12
        }
      ],
      "source": [
        "#Model Building\n",
        "svm = SVC(max_iter=10000)\n",
        "svm.fit(X_train_pca, Y_train)"
      ],
      "id": "fd0cd6ee"
    },
    {
      "cell_type": "code",
      "execution_count": 13,
      "metadata": {
        "id": "32f2ee2a"
      },
      "outputs": [],
      "source": [
        "#Applying model to test dataset\n",
        "svm_Y_pred = svm.predict(X_test_pca)"
      ],
      "id": "32f2ee2a"
    },
    {
      "cell_type": "code",
      "execution_count": 14,
      "metadata": {
        "colab": {
          "base_uri": "https://localhost:8080/"
        },
        "id": "123feea2",
        "outputId": "5e2231cd-0957-4b56-bec8-c886c0d48a40"
      },
      "outputs": [
        {
          "output_type": "stream",
          "name": "stdout",
          "text": [
            "F1 score for SVM model is: 0.7368421052631579\n"
          ]
        }
      ],
      "source": [
        "#Model Evaluation\n",
        "svm_f1 = metrics.f1_score(Y_test,svm_Y_pred)\n",
        "print(\"F1 score for SVM model is:\",svm_f1)"
      ],
      "id": "123feea2"
    },
    {
      "cell_type": "code",
      "source": [
        "#Hyperparameter Tuning\n",
        "kernel = ['poly', 'rbf', 'linear']\n",
        "\n",
        "param_grid = {\"kernel\" : kernel}\n",
        "\n",
        "gridsearch_svc = GridSearchCV(SVC(max_iter=1000000), param_grid, cv = 3, scoring = 'f1', n_jobs = 1, verbose=2)\n",
        "gridsearch_svc.fit(X_train_pca,Y_train)"
      ],
      "metadata": {
        "colab": {
          "base_uri": "https://localhost:8080/"
        },
        "id": "xpjkuv7HVc_g",
        "outputId": "403bd15d-fab7-4525-ee99-3f6e873aa8f1"
      },
      "id": "xpjkuv7HVc_g",
      "execution_count": 19,
      "outputs": [
        {
          "output_type": "stream",
          "name": "stdout",
          "text": [
            "Fitting 3 folds for each of 3 candidates, totalling 9 fits\n",
            "[CV] END ........................................kernel=poly; total time=  10.7s\n",
            "[CV] END ........................................kernel=poly; total time=   7.8s\n",
            "[CV] END ........................................kernel=poly; total time=   6.0s\n",
            "[CV] END .........................................kernel=rbf; total time=   6.0s\n",
            "[CV] END .........................................kernel=rbf; total time=   6.2s\n",
            "[CV] END .........................................kernel=rbf; total time=   5.8s\n",
            "[CV] END ......................................kernel=linear; total time=   2.5s\n",
            "[CV] END ......................................kernel=linear; total time=   2.4s\n",
            "[CV] END ......................................kernel=linear; total time=   2.4s\n"
          ]
        },
        {
          "output_type": "execute_result",
          "data": {
            "text/plain": [
              "GridSearchCV(cv=3, estimator=SVC(max_iter=1000000), n_jobs=1,\n",
              "             param_grid={'kernel': ['poly', 'rbf', 'linear']}, scoring='f1',\n",
              "             verbose=2)"
            ]
          },
          "metadata": {},
          "execution_count": 19
        }
      ]
    },
    {
      "cell_type": "code",
      "source": [
        "print(\"Cross validation score after tuning: \",gridsearch_svc.best_score_)\n",
        "print(\"Final parameters after tuning\",gridsearch_svc.best_params_)"
      ],
      "metadata": {
        "id": "lYPK8JQ6bPjf",
        "colab": {
          "base_uri": "https://localhost:8080/"
        },
        "outputId": "8b261e0c-2eb7-42d7-8b70-9ae091692bbd"
      },
      "id": "lYPK8JQ6bPjf",
      "execution_count": 20,
      "outputs": [
        {
          "output_type": "stream",
          "name": "stdout",
          "text": [
            "Cross validation score after tuning:  0.7955404541216899\n",
            "Final parameters after tuning {'kernel': 'rbf'}\n"
          ]
        }
      ]
    },
    {
      "cell_type": "code",
      "source": [
        "svc_tuned = SVC(kernel = gridsearch_svc.best_params_['kernel'])\n",
        "svc_tuned.fit(X_train_pca,Y_train)\n",
        "svc_tuned_pred = svc_tuned.predict(X_test_pca)"
      ],
      "metadata": {
        "id": "h4mTqJ41bPpH"
      },
      "id": "h4mTqJ41bPpH",
      "execution_count": 21,
      "outputs": []
    },
    {
      "cell_type": "code",
      "source": [
        "#Model Evaluation\n",
        "\n",
        "svm_best_f1 = metrics.f1_score(Y_test,svc_tuned_pred)\n",
        "print(\"F1 score for SVM after hyperparameter tuning is: \",svm_best_f1)"
      ],
      "metadata": {
        "id": "gK8jTDHJbYZo",
        "colab": {
          "base_uri": "https://localhost:8080/"
        },
        "outputId": "7f44da61-f241-4669-df45-a309a326f739"
      },
      "id": "gK8jTDHJbYZo",
      "execution_count": 22,
      "outputs": [
        {
          "output_type": "stream",
          "name": "stdout",
          "text": [
            "F1 score for SVM after hyperparameter tuning is:  0.7368421052631579\n"
          ]
        }
      ]
    },
    {
      "cell_type": "markdown",
      "metadata": {
        "id": "12ae74ce"
      },
      "source": [
        "## Random Forest"
      ],
      "id": "12ae74ce"
    },
    {
      "cell_type": "code",
      "execution_count": 23,
      "metadata": {
        "id": "992cac9b",
        "colab": {
          "base_uri": "https://localhost:8080/"
        },
        "outputId": "4c204af0-3298-4b93-e582-fd2dc21f36e1"
      },
      "outputs": [
        {
          "output_type": "execute_result",
          "data": {
            "text/plain": [
              "RandomForestClassifier(n_jobs=-1)"
            ]
          },
          "metadata": {},
          "execution_count": 23
        }
      ],
      "source": [
        "#Model Building\n",
        "\n",
        "rf = RandomForestClassifier(n_jobs = -1)\n",
        "rf.fit(X_train_pca, Y_train)"
      ],
      "id": "992cac9b"
    },
    {
      "cell_type": "code",
      "execution_count": 25,
      "metadata": {
        "id": "871abb7e"
      },
      "outputs": [],
      "source": [
        "#Applying model to test dataset\n",
        "\n",
        "rf_Y_pred = rf.predict(X_test_pca)"
      ],
      "id": "871abb7e"
    },
    {
      "cell_type": "code",
      "execution_count": 28,
      "metadata": {
        "id": "9170363b",
        "colab": {
          "base_uri": "https://localhost:8080/"
        },
        "outputId": "aa9f984c-9f4b-447a-f1da-52fe27686b99"
      },
      "outputs": [
        {
          "output_type": "stream",
          "name": "stdout",
          "text": [
            "F1 score for Random Forest model is: 0.7391304347826088\n"
          ]
        }
      ],
      "source": [
        "#Model Evaluation\n",
        "\n",
        "rf_f1 = metrics.f1_score(Y_test, rf_Y_pred)\n",
        "print(\"F1 score for Random Forest model is:\",rf_f1)"
      ],
      "id": "9170363b"
    },
    {
      "cell_type": "code",
      "source": [
        "#Hyperparameter tuning \n",
        "\n",
        "criteria = ['entropy']\n",
        "max_depth = [2,10,20]\n",
        "min_samples_leaf = [5,20]\n",
        "\n",
        "param_grid = {\"criterion\" : criteria, \"max_depth\" : max_depth, \"min_samples_leaf\" : min_samples_leaf}\n",
        "\n",
        "grid_search_rf = GridSearchCV(RandomForestClassifier(),param_grid, cv = 3, verbose = 2, n_jobs = -1, scoring = 'f1')\n",
        "grid_search_rf.fit(X_train_pca,Y_train)"
      ],
      "metadata": {
        "colab": {
          "base_uri": "https://localhost:8080/"
        },
        "id": "gGJ_2l1C1HAQ",
        "outputId": "37f43207-e7e0-4098-8550-a75819352ff7"
      },
      "id": "gGJ_2l1C1HAQ",
      "execution_count": 38,
      "outputs": [
        {
          "output_type": "stream",
          "name": "stdout",
          "text": [
            "Fitting 3 folds for each of 6 candidates, totalling 18 fits\n"
          ]
        },
        {
          "output_type": "execute_result",
          "data": {
            "text/plain": [
              "GridSearchCV(cv=3, estimator=RandomForestClassifier(), n_jobs=-1,\n",
              "             param_grid={'criterion': ['entropy'], 'max_depth': [2, 10, 20],\n",
              "                         'min_samples_leaf': [5, 20]},\n",
              "             scoring='f1', verbose=2)"
            ]
          },
          "metadata": {},
          "execution_count": 38
        }
      ]
    },
    {
      "cell_type": "code",
      "source": [
        "print(\"Cross validation score after tuning: \",grid_search_rf.best_score_)\n",
        "print(\"Final parameters after tuning\",grid_search_rf.best_params_)"
      ],
      "metadata": {
        "colab": {
          "base_uri": "https://localhost:8080/"
        },
        "id": "0TNkWJC22Bad",
        "outputId": "81d40350-9cbd-4434-e629-2a154d6f2f16"
      },
      "id": "0TNkWJC22Bad",
      "execution_count": 39,
      "outputs": [
        {
          "output_type": "stream",
          "name": "stdout",
          "text": [
            "Cross validation score after tuning:  0.7908301980730617\n",
            "Final parameters after tuning {'criterion': 'entropy', 'max_depth': 10, 'min_samples_leaf': 5}\n"
          ]
        }
      ]
    },
    {
      "cell_type": "code",
      "source": [
        "#Fitting Random Forest with the best parameters and making a prediction on test data set\n",
        "\n",
        "rf_tuned = RandomForestClassifier(criterion = grid_search_rf.best_params_['criterion'],\n",
        "                                  max_depth = grid_search_rf.best_params_['max_depth'],\n",
        "                                  min_samples_leaf = grid_search_rf.best_params_['min_samples_leaf'])\n",
        "rf_tuned.fit(X_train_pca,Y_train)\n",
        "\n",
        "rf_tuned_pred = rf_tuned.predict(X_test_pca)"
      ],
      "metadata": {
        "id": "PLzOFtW22SdS"
      },
      "id": "PLzOFtW22SdS",
      "execution_count": 40,
      "outputs": []
    },
    {
      "cell_type": "code",
      "source": [
        "rf_best_f1 = metrics.f1_score(Y_test, rf_tuned_pred)\n",
        "print(\"F1 score for Random Forest after hyperparameter tuning is: \",rf_best_f1)"
      ],
      "metadata": {
        "colab": {
          "base_uri": "https://localhost:8080/"
        },
        "id": "lcvbYmQu2nlJ",
        "outputId": "b3aaf2c2-7339-42c7-a80f-81aa03d20842"
      },
      "id": "lcvbYmQu2nlJ",
      "execution_count": 41,
      "outputs": [
        {
          "output_type": "stream",
          "name": "stdout",
          "text": [
            "F1 score for Random Forest after hyperparameter tuning is:  0.7413793103448276\n"
          ]
        }
      ]
    },
    {
      "cell_type": "markdown",
      "metadata": {
        "id": "0f35170f"
      },
      "source": [
        "## XGBoost"
      ],
      "id": "0f35170f"
    },
    {
      "cell_type": "code",
      "execution_count": 42,
      "metadata": {
        "id": "5d56b9fd",
        "colab": {
          "base_uri": "https://localhost:8080/"
        },
        "outputId": "7cb2fba1-dc72-43f8-ff86-d60aef119329"
      },
      "outputs": [
        {
          "output_type": "execute_result",
          "data": {
            "text/plain": [
              "XGBClassifier()"
            ]
          },
          "metadata": {},
          "execution_count": 42
        }
      ],
      "source": [
        "#Model Building\n",
        "\n",
        "xgb =XGBClassifier()\n",
        "xgb.fit(X_train_pca, Y_train)"
      ],
      "id": "5d56b9fd"
    },
    {
      "cell_type": "code",
      "execution_count": 43,
      "metadata": {
        "id": "aea942d5"
      },
      "outputs": [],
      "source": [
        "#Applying model to test dataset\n",
        "\n",
        "xgb_Y_pred = rf.predict(X_test_pca)"
      ],
      "id": "aea942d5"
    },
    {
      "cell_type": "code",
      "execution_count": 44,
      "metadata": {
        "id": "32375768",
        "colab": {
          "base_uri": "https://localhost:8080/"
        },
        "outputId": "238b50b8-c4c1-4777-de70-ec06f5b8703a"
      },
      "outputs": [
        {
          "output_type": "stream",
          "name": "stdout",
          "text": [
            "F1 score for XGBoost model is: 0.7391304347826088\n"
          ]
        }
      ],
      "source": [
        "#Model Evaluation\n",
        "\n",
        "xgb_f1 = metrics.f1_score(Y_test, xgb_Y_pred)\n",
        "print(\"F1 score for XGBoost model is:\",xgb_f1)"
      ],
      "id": "32375768"
    },
    {
      "cell_type": "code",
      "source": [
        "#Hyperparameter Tuning\n",
        "\n",
        "param_grid = {'min_child_weight': [1, 5, 10],\n",
        "              'gamma': [0.5, 1, 1.5, 2, 5],\n",
        "              'max_depth': [3, 4, 5]\n",
        "              }\n",
        "\n",
        "grid_search_xgb = GridSearchCV(XGBClassifier(), param_grid, n_jobs = -1, scoring = \"f1\", cv = 3, verbose = 2)\n",
        "grid_search_xgb.fit(X_train_pca,Y_train)"
      ],
      "metadata": {
        "colab": {
          "base_uri": "https://localhost:8080/"
        },
        "id": "m8DndmFtC0o7",
        "outputId": "bec3ce57-f73c-4643-ac7b-034cccb348ca"
      },
      "id": "m8DndmFtC0o7",
      "execution_count": 46,
      "outputs": [
        {
          "output_type": "stream",
          "name": "stdout",
          "text": [
            "Fitting 3 folds for each of 45 candidates, totalling 135 fits\n"
          ]
        },
        {
          "output_type": "execute_result",
          "data": {
            "text/plain": [
              "GridSearchCV(cv=3, estimator=XGBClassifier(), n_jobs=-1,\n",
              "             param_grid={'gamma': [0.5, 1, 1.5, 2, 5], 'max_depth': [3, 4, 5],\n",
              "                         'min_child_weight': [1, 5, 10]},\n",
              "             scoring='f1', verbose=2)"
            ]
          },
          "metadata": {},
          "execution_count": 46
        }
      ]
    },
    {
      "cell_type": "code",
      "source": [
        "print(\"Cross validation score after tuning: \",grid_search_xgb.best_score_)\n",
        "print(\"Final parameters after tuning\",grid_search_xgb.best_params_)"
      ],
      "metadata": {
        "colab": {
          "base_uri": "https://localhost:8080/"
        },
        "id": "SNCW_TXkC08m",
        "outputId": "f07ceb87-bedf-42a9-c2bf-66019f4c685d"
      },
      "id": "SNCW_TXkC08m",
      "execution_count": 47,
      "outputs": [
        {
          "output_type": "stream",
          "name": "stdout",
          "text": [
            "Cross validation score after tuning:  0.8063614443260242\n",
            "Final parameters after tuning {'gamma': 0.5, 'max_depth': 5, 'min_child_weight': 5}\n"
          ]
        }
      ]
    },
    {
      "cell_type": "code",
      "source": [
        "#Fitting Random Forest with the best parameters and making a prediction on test data set\n",
        "\n",
        "xgb_tuned = XGBClassifier(min_child_weight = grid_search_xgb.best_params_['min_child_weight'],\n",
        "                                  max_depth = grid_search_xgb.best_params_['max_depth'],\n",
        "                                  gamma = grid_search_xgb.best_params_['gamma'])\n",
        "xgb_tuned.fit(X_train_pca,Y_train)\n",
        "\n",
        "xgb_tuned_pred = xgb_tuned.predict(X_test_pca)"
      ],
      "metadata": {
        "id": "V5408HJBC1Ip"
      },
      "id": "V5408HJBC1Ip",
      "execution_count": 48,
      "outputs": []
    },
    {
      "cell_type": "code",
      "source": [
        "xgb_best_f1 = metrics.f1_score(Y_test, xgb_tuned_pred)\n",
        "print(\"F1 score for XGBoost after hyperparameter tuning is: \",xgb_best_f1)"
      ],
      "metadata": {
        "colab": {
          "base_uri": "https://localhost:8080/"
        },
        "id": "XTa5ydbfC1UN",
        "outputId": "1cac5fe9-b24a-44f8-cdfe-f6ea04906815"
      },
      "id": "XTa5ydbfC1UN",
      "execution_count": 49,
      "outputs": [
        {
          "output_type": "stream",
          "name": "stdout",
          "text": [
            "F1 score for XGBoost after hyperparameter tuning is:  0.748936170212766\n"
          ]
        }
      ]
    },
    {
      "cell_type": "markdown",
      "metadata": {
        "id": "91b46124"
      },
      "source": [
        "# Comparison of Model Performance"
      ],
      "id": "91b46124"
    },
    {
      "cell_type": "code",
      "execution_count": 72,
      "metadata": {
        "id": "e91b3bb8",
        "colab": {
          "base_uri": "https://localhost:8080/",
          "height": 237
        },
        "outputId": "00f6eb6c-7d52-4c96-a972-9e241e52d237"
      },
      "outputs": [
        {
          "output_type": "execute_result",
          "data": {
            "text/plain": [
              "                    Model  F1 score before Tuning  F1 score after Tuning\n",
              "0                 XGBoost                0.739130               0.748936\n",
              "1                     KNN                0.723982               0.745455\n",
              "2           Random Forest                0.739130               0.741379\n",
              "3  Support Vector Machine                0.736842               0.736842\n",
              "4           Decision Tree                0.646617               0.727273\n",
              "5     Logistic Regression                0.542714               0.708171"
            ],
            "text/html": [
              "\n",
              "  <div id=\"df-ef665154-d28e-438d-8da4-2031e03a34d5\">\n",
              "    <div class=\"colab-df-container\">\n",
              "      <div>\n",
              "<style scoped>\n",
              "    .dataframe tbody tr th:only-of-type {\n",
              "        vertical-align: middle;\n",
              "    }\n",
              "\n",
              "    .dataframe tbody tr th {\n",
              "        vertical-align: top;\n",
              "    }\n",
              "\n",
              "    .dataframe thead th {\n",
              "        text-align: right;\n",
              "    }\n",
              "</style>\n",
              "<table border=\"1\" class=\"dataframe\">\n",
              "  <thead>\n",
              "    <tr style=\"text-align: right;\">\n",
              "      <th></th>\n",
              "      <th>Model</th>\n",
              "      <th>F1 score before Tuning</th>\n",
              "      <th>F1 score after Tuning</th>\n",
              "    </tr>\n",
              "  </thead>\n",
              "  <tbody>\n",
              "    <tr>\n",
              "      <th>0</th>\n",
              "      <td>XGBoost</td>\n",
              "      <td>0.739130</td>\n",
              "      <td>0.748936</td>\n",
              "    </tr>\n",
              "    <tr>\n",
              "      <th>1</th>\n",
              "      <td>KNN</td>\n",
              "      <td>0.723982</td>\n",
              "      <td>0.745455</td>\n",
              "    </tr>\n",
              "    <tr>\n",
              "      <th>2</th>\n",
              "      <td>Random Forest</td>\n",
              "      <td>0.739130</td>\n",
              "      <td>0.741379</td>\n",
              "    </tr>\n",
              "    <tr>\n",
              "      <th>3</th>\n",
              "      <td>Support Vector Machine</td>\n",
              "      <td>0.736842</td>\n",
              "      <td>0.736842</td>\n",
              "    </tr>\n",
              "    <tr>\n",
              "      <th>4</th>\n",
              "      <td>Decision Tree</td>\n",
              "      <td>0.646617</td>\n",
              "      <td>0.727273</td>\n",
              "    </tr>\n",
              "    <tr>\n",
              "      <th>5</th>\n",
              "      <td>Logistic Regression</td>\n",
              "      <td>0.542714</td>\n",
              "      <td>0.708171</td>\n",
              "    </tr>\n",
              "  </tbody>\n",
              "</table>\n",
              "</div>\n",
              "      <button class=\"colab-df-convert\" onclick=\"convertToInteractive('df-ef665154-d28e-438d-8da4-2031e03a34d5')\"\n",
              "              title=\"Convert this dataframe to an interactive table.\"\n",
              "              style=\"display:none;\">\n",
              "        \n",
              "  <svg xmlns=\"http://www.w3.org/2000/svg\" height=\"24px\"viewBox=\"0 0 24 24\"\n",
              "       width=\"24px\">\n",
              "    <path d=\"M0 0h24v24H0V0z\" fill=\"none\"/>\n",
              "    <path d=\"M18.56 5.44l.94 2.06.94-2.06 2.06-.94-2.06-.94-.94-2.06-.94 2.06-2.06.94zm-11 1L8.5 8.5l.94-2.06 2.06-.94-2.06-.94L8.5 2.5l-.94 2.06-2.06.94zm10 10l.94 2.06.94-2.06 2.06-.94-2.06-.94-.94-2.06-.94 2.06-2.06.94z\"/><path d=\"M17.41 7.96l-1.37-1.37c-.4-.4-.92-.59-1.43-.59-.52 0-1.04.2-1.43.59L10.3 9.45l-7.72 7.72c-.78.78-.78 2.05 0 2.83L4 21.41c.39.39.9.59 1.41.59.51 0 1.02-.2 1.41-.59l7.78-7.78 2.81-2.81c.8-.78.8-2.07 0-2.86zM5.41 20L4 18.59l7.72-7.72 1.47 1.35L5.41 20z\"/>\n",
              "  </svg>\n",
              "      </button>\n",
              "      \n",
              "  <style>\n",
              "    .colab-df-container {\n",
              "      display:flex;\n",
              "      flex-wrap:wrap;\n",
              "      gap: 12px;\n",
              "    }\n",
              "\n",
              "    .colab-df-convert {\n",
              "      background-color: #E8F0FE;\n",
              "      border: none;\n",
              "      border-radius: 50%;\n",
              "      cursor: pointer;\n",
              "      display: none;\n",
              "      fill: #1967D2;\n",
              "      height: 32px;\n",
              "      padding: 0 0 0 0;\n",
              "      width: 32px;\n",
              "    }\n",
              "\n",
              "    .colab-df-convert:hover {\n",
              "      background-color: #E2EBFA;\n",
              "      box-shadow: 0px 1px 2px rgba(60, 64, 67, 0.3), 0px 1px 3px 1px rgba(60, 64, 67, 0.15);\n",
              "      fill: #174EA6;\n",
              "    }\n",
              "\n",
              "    [theme=dark] .colab-df-convert {\n",
              "      background-color: #3B4455;\n",
              "      fill: #D2E3FC;\n",
              "    }\n",
              "\n",
              "    [theme=dark] .colab-df-convert:hover {\n",
              "      background-color: #434B5C;\n",
              "      box-shadow: 0px 1px 3px 1px rgba(0, 0, 0, 0.15);\n",
              "      filter: drop-shadow(0px 1px 2px rgba(0, 0, 0, 0.3));\n",
              "      fill: #FFFFFF;\n",
              "    }\n",
              "  </style>\n",
              "\n",
              "      <script>\n",
              "        const buttonEl =\n",
              "          document.querySelector('#df-ef665154-d28e-438d-8da4-2031e03a34d5 button.colab-df-convert');\n",
              "        buttonEl.style.display =\n",
              "          google.colab.kernel.accessAllowed ? 'block' : 'none';\n",
              "\n",
              "        async function convertToInteractive(key) {\n",
              "          const element = document.querySelector('#df-ef665154-d28e-438d-8da4-2031e03a34d5');\n",
              "          const dataTable =\n",
              "            await google.colab.kernel.invokeFunction('convertToInteractive',\n",
              "                                                     [key], {});\n",
              "          if (!dataTable) return;\n",
              "\n",
              "          const docLinkHtml = 'Like what you see? Visit the ' +\n",
              "            '<a target=\"_blank\" href=https://colab.research.google.com/notebooks/data_table.ipynb>data table notebook</a>'\n",
              "            + ' to learn more about interactive tables.';\n",
              "          element.innerHTML = '';\n",
              "          dataTable['output_type'] = 'display_data';\n",
              "          await google.colab.output.renderOutput(dataTable, element);\n",
              "          const docLink = document.createElement('div');\n",
              "          docLink.innerHTML = docLinkHtml;\n",
              "          element.appendChild(docLink);\n",
              "        }\n",
              "      </script>\n",
              "    </div>\n",
              "  </div>\n",
              "  "
            ]
          },
          "metadata": {},
          "execution_count": 72
        }
      ],
      "source": [
        "df_perf = pd.DataFrame(data = [['KNN',kNN_f1,kNN_best_f1],\n",
        "                               ['Logistic Regression',logr_f1,logr_best_f1],\n",
        "                               ['Decision Tree',dt_f1,dt_best_f1],\n",
        "                               ['Support Vector Machine',svm_f1,svm_best_f1],\n",
        "                               ['Random Forest',rf_f1,rf_best_f1],\n",
        "                               ['XGBoost',xgb_f1,xgb_best_f1]\n",
        "                               ], columns = ['Model','F1 score before Tuning','F1 score after Tuning'])\n",
        "\n",
        "df = df_perf.sort_values(by = 'F1 score after Tuning',ascending = False).reset_index(drop = True)\n",
        "df"
      ],
      "id": "e91b3bb8"
    },
    {
      "cell_type": "code",
      "execution_count": null,
      "metadata": {
        "id": "8pQk-Lqtc0Sv"
      },
      "outputs": [],
      "source": [
        "                              "
      ],
      "id": "8pQk-Lqtc0Sv"
    },
    {
      "cell_type": "code",
      "execution_count": null,
      "metadata": {
        "id": "19498448"
      },
      "outputs": [],
      "source": [],
      "id": "19498448"
    }
  ],
  "metadata": {
    "colab": {
      "collapsed_sections": [],
      "provenance": [],
      "include_colab_link": true
    },
    "kernelspec": {
      "display_name": "Python 3 (ipykernel)",
      "language": "python",
      "name": "python3"
    },
    "language_info": {
      "codemirror_mode": {
        "name": "ipython",
        "version": 3
      },
      "file_extension": ".py",
      "mimetype": "text/x-python",
      "name": "python",
      "nbconvert_exporter": "python",
      "pygments_lexer": "ipython3",
      "version": "3.7.11"
    }
  },
  "nbformat": 4,
  "nbformat_minor": 5
}